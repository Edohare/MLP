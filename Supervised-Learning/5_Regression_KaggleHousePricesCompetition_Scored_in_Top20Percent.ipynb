{
 "cells": [
  {
   "cell_type": "markdown",
   "metadata": {},
   "source": [
    "# 🏠Predicting the House Sale Prices using Machine Learning"
   ]
  },
  {
   "cell_type": "markdown",
   "metadata": {},
   "source": [
    "## 1. Problem Definition\n",
    "We have 79 variables which contain data about almost every aspect of residential homes in Ames, Iowa. Can we predict the final price of homes?\n",
    "\n",
    "I was able to get into the 20% of teams in with this submission. Using the Catboost algorithm gave us the best results."
   ]
  },
  {
   "cell_type": "markdown",
   "metadata": {},
   "source": [
    "## 2. Data\n",
    "This data is taken from the Kaggle Competition \"House Prices: Advanced Regression Techniques\".\n",
    "\n",
    "Link: https://www.kaggle.com/c/house-prices-advanced-regression-techniques/overview\n",
    "\n",
    "We will have a train.csv, and a test.csv"
   ]
  },
  {
   "cell_type": "markdown",
   "metadata": {},
   "source": [
    "## 3. Evaluation\n",
    "The evaluation metric for this competition is RMSE (Root Mean Squared Error)"
   ]
  },
  {
   "cell_type": "markdown",
   "metadata": {},
   "source": [
    "## 4. Data\n",
    "Data Dictionary: https://www.kaggle.com/c/house-prices-advanced-regression-techniques/data"
   ]
  },
  {
   "cell_type": "code",
   "execution_count": 1,
   "metadata": {},
   "outputs": [],
   "source": [
    "import numpy as np\n",
    "import pandas as pd\n",
    "import matplotlib.pyplot as plt\n",
    "import seaborn as sns\n",
    "import sklearn"
   ]
  },
  {
   "cell_type": "code",
   "execution_count": 52,
   "metadata": {},
   "outputs": [],
   "source": [
    "df = pd.read_csv(\"data/Kaggle-HousePricesComp/train.csv\", low_memory=False)\n",
    "original = pd.read_csv(\"data/Kaggle-HousePricesComp/train.csv\", low_memory=False)\n",
    "test = pd.read_csv(\"data/Kaggle-HousePricesComp/test.csv\", low_memory=False)"
   ]
  },
  {
   "cell_type": "code",
   "execution_count": 3,
   "metadata": {},
   "outputs": [
    {
     "data": {
      "text/plain": [
       "(1460, 81)"
      ]
     },
     "execution_count": 3,
     "metadata": {},
     "output_type": "execute_result"
    }
   ],
   "source": [
    "df.shape"
   ]
  },
  {
   "cell_type": "code",
   "execution_count": 4,
   "metadata": {
    "scrolled": true
   },
   "outputs": [
    {
     "name": "stdout",
     "output_type": "stream",
     "text": [
      "<class 'pandas.core.frame.DataFrame'>\n",
      "RangeIndex: 1460 entries, 0 to 1459\n",
      "Data columns (total 81 columns):\n",
      " #   Column         Non-Null Count  Dtype  \n",
      "---  ------         --------------  -----  \n",
      " 0   Id             1460 non-null   int64  \n",
      " 1   MSSubClass     1460 non-null   int64  \n",
      " 2   MSZoning       1460 non-null   object \n",
      " 3   LotFrontage    1201 non-null   float64\n",
      " 4   LotArea        1460 non-null   int64  \n",
      " 5   Street         1460 non-null   object \n",
      " 6   Alley          91 non-null     object \n",
      " 7   LotShape       1460 non-null   object \n",
      " 8   LandContour    1460 non-null   object \n",
      " 9   Utilities      1460 non-null   object \n",
      " 10  LotConfig      1460 non-null   object \n",
      " 11  LandSlope      1460 non-null   object \n",
      " 12  Neighborhood   1460 non-null   object \n",
      " 13  Condition1     1460 non-null   object \n",
      " 14  Condition2     1460 non-null   object \n",
      " 15  BldgType       1460 non-null   object \n",
      " 16  HouseStyle     1460 non-null   object \n",
      " 17  OverallQual    1460 non-null   int64  \n",
      " 18  OverallCond    1460 non-null   int64  \n",
      " 19  YearBuilt      1460 non-null   int64  \n",
      " 20  YearRemodAdd   1460 non-null   int64  \n",
      " 21  RoofStyle      1460 non-null   object \n",
      " 22  RoofMatl       1460 non-null   object \n",
      " 23  Exterior1st    1460 non-null   object \n",
      " 24  Exterior2nd    1460 non-null   object \n",
      " 25  MasVnrType     1452 non-null   object \n",
      " 26  MasVnrArea     1452 non-null   float64\n",
      " 27  ExterQual      1460 non-null   object \n",
      " 28  ExterCond      1460 non-null   object \n",
      " 29  Foundation     1460 non-null   object \n",
      " 30  BsmtQual       1423 non-null   object \n",
      " 31  BsmtCond       1423 non-null   object \n",
      " 32  BsmtExposure   1422 non-null   object \n",
      " 33  BsmtFinType1   1423 non-null   object \n",
      " 34  BsmtFinSF1     1460 non-null   int64  \n",
      " 35  BsmtFinType2   1422 non-null   object \n",
      " 36  BsmtFinSF2     1460 non-null   int64  \n",
      " 37  BsmtUnfSF      1460 non-null   int64  \n",
      " 38  TotalBsmtSF    1460 non-null   int64  \n",
      " 39  Heating        1460 non-null   object \n",
      " 40  HeatingQC      1460 non-null   object \n",
      " 41  CentralAir     1460 non-null   object \n",
      " 42  Electrical     1459 non-null   object \n",
      " 43  1stFlrSF       1460 non-null   int64  \n",
      " 44  2ndFlrSF       1460 non-null   int64  \n",
      " 45  LowQualFinSF   1460 non-null   int64  \n",
      " 46  GrLivArea      1460 non-null   int64  \n",
      " 47  BsmtFullBath   1460 non-null   int64  \n",
      " 48  BsmtHalfBath   1460 non-null   int64  \n",
      " 49  FullBath       1460 non-null   int64  \n",
      " 50  HalfBath       1460 non-null   int64  \n",
      " 51  BedroomAbvGr   1460 non-null   int64  \n",
      " 52  KitchenAbvGr   1460 non-null   int64  \n",
      " 53  KitchenQual    1460 non-null   object \n",
      " 54  TotRmsAbvGrd   1460 non-null   int64  \n",
      " 55  Functional     1460 non-null   object \n",
      " 56  Fireplaces     1460 non-null   int64  \n",
      " 57  FireplaceQu    770 non-null    object \n",
      " 58  GarageType     1379 non-null   object \n",
      " 59  GarageYrBlt    1379 non-null   float64\n",
      " 60  GarageFinish   1379 non-null   object \n",
      " 61  GarageCars     1460 non-null   int64  \n",
      " 62  GarageArea     1460 non-null   int64  \n",
      " 63  GarageQual     1379 non-null   object \n",
      " 64  GarageCond     1379 non-null   object \n",
      " 65  PavedDrive     1460 non-null   object \n",
      " 66  WoodDeckSF     1460 non-null   int64  \n",
      " 67  OpenPorchSF    1460 non-null   int64  \n",
      " 68  EnclosedPorch  1460 non-null   int64  \n",
      " 69  3SsnPorch      1460 non-null   int64  \n",
      " 70  ScreenPorch    1460 non-null   int64  \n",
      " 71  PoolArea       1460 non-null   int64  \n",
      " 72  PoolQC         7 non-null      object \n",
      " 73  Fence          281 non-null    object \n",
      " 74  MiscFeature    54 non-null     object \n",
      " 75  MiscVal        1460 non-null   int64  \n",
      " 76  MoSold         1460 non-null   int64  \n",
      " 77  YrSold         1460 non-null   int64  \n",
      " 78  SaleType       1460 non-null   object \n",
      " 79  SaleCondition  1460 non-null   object \n",
      " 80  SalePrice      1460 non-null   int64  \n",
      "dtypes: float64(3), int64(35), object(43)\n",
      "memory usage: 924.0+ KB\n"
     ]
    }
   ],
   "source": [
    "df.info()"
   ]
  },
  {
   "cell_type": "markdown",
   "metadata": {},
   "source": [
    "## What part of my data has null/missing values?"
   ]
  },
  {
   "cell_type": "code",
   "execution_count": 5,
   "metadata": {},
   "outputs": [
    {
     "data": {
      "text/plain": [
       "<matplotlib.axes._subplots.AxesSubplot at 0x152e2bc21c8>"
      ]
     },
     "execution_count": 5,
     "metadata": {},
     "output_type": "execute_result"
    },
    {
     "data": {
      "image/png": "[encoded data removed]",
      "text/plain": [
       "<Figure size 720x720 with 1 Axes>"
      ]
     },
     "metadata": {
      "needs_background": "light"
     },
     "output_type": "display_data"
    }
   ],
   "source": [
    "plt.figure(figsize=(10,10))\n",
    "sns.heatmap(df.isnull(), cbar=False, cmap='YlGnBu')"
   ]
  },
  {
   "cell_type": "markdown",
   "metadata": {},
   "source": [
    "### Convert String Data to Categorical Data"
   ]
  },
  {
   "cell_type": "code",
   "execution_count": 7,
   "metadata": {},
   "outputs": [
    {
     "name": "stdout",
     "output_type": "stream",
     "text": [
      "MSZoning\n",
      "Street\n",
      "Alley\n",
      "LotShape\n",
      "LandContour\n",
      "Utilities\n",
      "LotConfig\n",
      "LandSlope\n",
      "Neighborhood\n",
      "Condition1\n",
      "Condition2\n",
      "BldgType\n",
      "HouseStyle\n",
      "RoofStyle\n",
      "RoofMatl\n",
      "Exterior1st\n",
      "Exterior2nd\n",
      "MasVnrType\n",
      "ExterQual\n",
      "ExterCond\n",
      "Foundation\n",
      "BsmtQual\n",
      "BsmtCond\n",
      "BsmtExposure\n",
      "BsmtFinType1\n",
      "BsmtFinType2\n",
      "Heating\n",
      "HeatingQC\n",
      "CentralAir\n",
      "Electrical\n",
      "KitchenQual\n",
      "Functional\n",
      "FireplaceQu\n",
      "GarageType\n",
      "GarageFinish\n",
      "GarageQual\n",
      "GarageCond\n",
      "PavedDrive\n",
      "PoolQC\n",
      "Fence\n",
      "MiscFeature\n",
      "SaleType\n",
      "SaleCondition\n"
     ]
    }
   ],
   "source": [
    "# Find the columns which contains strings\n",
    "for label, content in df.items():\n",
    "    if pd.api.types.is_string_dtype(content):\n",
    "        print(label)"
   ]
  },
  {
   "cell_type": "code",
   "execution_count": 8,
   "metadata": {},
   "outputs": [],
   "source": [
    "# This will turn all of the string value into category values\n",
    "for label, content in df.items():\n",
    "    if pd.api.types.is_string_dtype(content):\n",
    "        df[label] = content.astype(\"category\").cat.as_ordered()\n",
    "        # As ordered makes them ordered"
   ]
  },
  {
   "cell_type": "code",
   "execution_count": 9,
   "metadata": {},
   "outputs": [],
   "source": [
    "# This will turn all of the string value into category values\n",
    "for label, content in test.items():\n",
    "    if pd.api.types.is_string_dtype(content):\n",
    "        test[label] = content.astype(\"category\").cat.as_ordered()\n",
    "        # As ordered makes them ordered"
   ]
  },
  {
   "cell_type": "markdown",
   "metadata": {},
   "source": [
    "### So now instead of having string data, we have categorical data"
   ]
  },
  {
   "cell_type": "code",
   "execution_count": 10,
   "metadata": {
    "scrolled": true
   },
   "outputs": [
    {
     "name": "stdout",
     "output_type": "stream",
     "text": [
      "<class 'pandas.core.frame.DataFrame'>\n",
      "RangeIndex: 1460 entries, 0 to 1459\n",
      "Data columns (total 81 columns):\n",
      " #   Column         Non-Null Count  Dtype   \n",
      "---  ------         --------------  -----   \n",
      " 0   Id             1460 non-null   int64   \n",
      " 1   MSSubClass     1460 non-null   int64   \n",
      " 2   MSZoning       1460 non-null   category\n",
      " 3   LotFrontage    1201 non-null   float64 \n",
      " 4   LotArea        1460 non-null   int64   \n",
      " 5   Street         1460 non-null   category\n",
      " 6   Alley          91 non-null     category\n",
      " 7   LotShape       1460 non-null   category\n",
      " 8   LandContour    1460 non-null   category\n",
      " 9   Utilities      1460 non-null   category\n",
      " 10  LotConfig      1460 non-null   category\n",
      " 11  LandSlope      1460 non-null   category\n",
      " 12  Neighborhood   1460 non-null   category\n",
      " 13  Condition1     1460 non-null   category\n",
      " 14  Condition2     1460 non-null   category\n",
      " 15  BldgType       1460 non-null   category\n",
      " 16  HouseStyle     1460 non-null   category\n",
      " 17  OverallQual    1460 non-null   int64   \n",
      " 18  OverallCond    1460 non-null   int64   \n",
      " 19  YearBuilt      1460 non-null   int64   \n",
      " 20  YearRemodAdd   1460 non-null   int64   \n",
      " 21  RoofStyle      1460 non-null   category\n",
      " 22  RoofMatl       1460 non-null   category\n",
      " 23  Exterior1st    1460 non-null   category\n",
      " 24  Exterior2nd    1460 non-null   category\n",
      " 25  MasVnrType     1452 non-null   category\n",
      " 26  MasVnrArea     1452 non-null   float64 \n",
      " 27  ExterQual      1460 non-null   category\n",
      " 28  ExterCond      1460 non-null   category\n",
      " 29  Foundation     1460 non-null   category\n",
      " 30  BsmtQual       1423 non-null   category\n",
      " 31  BsmtCond       1423 non-null   category\n",
      " 32  BsmtExposure   1422 non-null   category\n",
      " 33  BsmtFinType1   1423 non-null   category\n",
      " 34  BsmtFinSF1     1460 non-null   int64   \n",
      " 35  BsmtFinType2   1422 non-null   category\n",
      " 36  BsmtFinSF2     1460 non-null   int64   \n",
      " 37  BsmtUnfSF      1460 non-null   int64   \n",
      " 38  TotalBsmtSF    1460 non-null   int64   \n",
      " 39  Heating        1460 non-null   category\n",
      " 40  HeatingQC      1460 non-null   category\n",
      " 41  CentralAir     1460 non-null   category\n",
      " 42  Electrical     1459 non-null   category\n",
      " 43  1stFlrSF       1460 non-null   int64   \n",
      " 44  2ndFlrSF       1460 non-null   int64   \n",
      " 45  LowQualFinSF   1460 non-null   int64   \n",
      " 46  GrLivArea      1460 non-null   int64   \n",
      " 47  BsmtFullBath   1460 non-null   int64   \n",
      " 48  BsmtHalfBath   1460 non-null   int64   \n",
      " 49  FullBath       1460 non-null   int64   \n",
      " 50  HalfBath       1460 non-null   int64   \n",
      " 51  BedroomAbvGr   1460 non-null   int64   \n",
      " 52  KitchenAbvGr   1460 non-null   int64   \n",
      " 53  KitchenQual    1460 non-null   category\n",
      " 54  TotRmsAbvGrd   1460 non-null   int64   \n",
      " 55  Functional     1460 non-null   category\n",
      " 56  Fireplaces     1460 non-null   int64   \n",
      " 57  FireplaceQu    770 non-null    category\n",
      " 58  GarageType     1379 non-null   category\n",
      " 59  GarageYrBlt    1379 non-null   float64 \n",
      " 60  GarageFinish   1379 non-null   category\n",
      " 61  GarageCars     1460 non-null   int64   \n",
      " 62  GarageArea     1460 non-null   int64   \n",
      " 63  GarageQual     1379 non-null   category\n",
      " 64  GarageCond     1379 non-null   category\n",
      " 65  PavedDrive     1460 non-null   category\n",
      " 66  WoodDeckSF     1460 non-null   int64   \n",
      " 67  OpenPorchSF    1460 non-null   int64   \n",
      " 68  EnclosedPorch  1460 non-null   int64   \n",
      " 69  3SsnPorch      1460 non-null   int64   \n",
      " 70  ScreenPorch    1460 non-null   int64   \n",
      " 71  PoolArea       1460 non-null   int64   \n",
      " 72  PoolQC         7 non-null      category\n",
      " 73  Fence          281 non-null    category\n",
      " 74  MiscFeature    54 non-null     category\n",
      " 75  MiscVal        1460 non-null   int64   \n",
      " 76  MoSold         1460 non-null   int64   \n",
      " 77  YrSold         1460 non-null   int64   \n",
      " 78  SaleType       1460 non-null   category\n",
      " 79  SaleCondition  1460 non-null   category\n",
      " 80  SalePrice      1460 non-null   int64   \n",
      "dtypes: category(43), float64(3), int64(35)\n",
      "memory usage: 505.3 KB\n"
     ]
    }
   ],
   "source": [
    "df.info()"
   ]
  },
  {
   "cell_type": "markdown",
   "metadata": {},
   "source": [
    "### Fill Missing Numeric Values"
   ]
  },
  {
   "cell_type": "code",
   "execution_count": 11,
   "metadata": {},
   "outputs": [
    {
     "name": "stdout",
     "output_type": "stream",
     "text": [
      "LotFrontage\n",
      "MasVnrArea\n",
      "GarageYrBlt\n"
     ]
    }
   ],
   "source": [
    "# For our numeric data types, let's check which columns have null values.\n",
    "for label, content in df.items():\n",
    "    if pd.api.types.is_numeric_dtype(content):\n",
    "        if pd.isnull(content).sum():\n",
    "            print(label)"
   ]
  },
  {
   "cell_type": "code",
   "execution_count": 12,
   "metadata": {},
   "outputs": [],
   "source": [
    "# Fill numeric rows with the median\n",
    "for label, content in df.items():\n",
    "    if pd.api.types.is_numeric_dtype(content):\n",
    "        if pd.isnull(content).sum():\n",
    "            # Fill missing numeric values with median\n",
    "            df[label] = content.fillna(content.median())"
   ]
  },
  {
   "cell_type": "code",
   "execution_count": 13,
   "metadata": {},
   "outputs": [],
   "source": [
    "# Fill numeric rows with the median\n",
    "for label, content in test.items():\n",
    "    if pd.api.types.is_numeric_dtype(content):\n",
    "        if pd.isnull(content).sum():\n",
    "            # Fill missing numeric values with median\n",
    "            test[label] = content.fillna(content.median())"
   ]
  },
  {
   "cell_type": "markdown",
   "metadata": {},
   "source": [
    "### Fill categorical values with numbers"
   ]
  },
  {
   "cell_type": "code",
   "execution_count": 14,
   "metadata": {},
   "outputs": [
    {
     "name": "stdout",
     "output_type": "stream",
     "text": [
      "MSZoning\n",
      "Street\n",
      "Alley\n",
      "LotShape\n",
      "LandContour\n",
      "Utilities\n",
      "LotConfig\n",
      "LandSlope\n",
      "Neighborhood\n",
      "Condition1\n",
      "Condition2\n",
      "BldgType\n",
      "HouseStyle\n",
      "RoofStyle\n",
      "RoofMatl\n",
      "Exterior1st\n",
      "Exterior2nd\n",
      "MasVnrType\n",
      "ExterQual\n",
      "ExterCond\n",
      "Foundation\n",
      "BsmtQual\n",
      "BsmtCond\n",
      "BsmtExposure\n",
      "BsmtFinType1\n",
      "BsmtFinType2\n",
      "Heating\n",
      "HeatingQC\n",
      "CentralAir\n",
      "Electrical\n",
      "KitchenQual\n",
      "Functional\n",
      "FireplaceQu\n",
      "GarageType\n",
      "GarageFinish\n",
      "GarageQual\n",
      "GarageCond\n",
      "PavedDrive\n",
      "PoolQC\n",
      "Fence\n",
      "MiscFeature\n",
      "SaleType\n",
      "SaleCondition\n"
     ]
    }
   ],
   "source": [
    "# Check for columns which are not numeric\n",
    "for label, content in df.items():\n",
    "    if not pd.api.types.is_numeric_dtype(content):\n",
    "        print(label)"
   ]
  },
  {
   "cell_type": "code",
   "execution_count": 15,
   "metadata": {},
   "outputs": [],
   "source": [
    "# Turn categorical variables into numbers and fill missing\n",
    "for label, content in df.items():\n",
    "    if not pd.api.types.is_numeric_dtype(content):\n",
    "        # Turn categories into numbers and add +1\n",
    "        df[label] = pd.Categorical(content).codes + 1\n",
    "        # Why + 1? Because pandas assigns missing values as -1, so we want it to be 0"
   ]
  },
  {
   "cell_type": "code",
   "execution_count": 16,
   "metadata": {},
   "outputs": [],
   "source": [
    "# Turn categorical variables into numbers and fill missing\n",
    "for label, content in test.items():\n",
    "    if not pd.api.types.is_numeric_dtype(content):\n",
    "        # Turn categories into numbers and add +1\n",
    "        test[label] = pd.Categorical(content).codes + 1\n",
    "        # Why + 1? Because pandas assigns missing values as -1, so we want it to be 0"
   ]
  },
  {
   "cell_type": "code",
   "execution_count": 17,
   "metadata": {
    "scrolled": true
   },
   "outputs": [
    {
     "data": {
      "text/plain": [
       "<matplotlib.axes._subplots.AxesSubplot at 0x152e3c51548>"
      ]
     },
     "execution_count": 17,
     "metadata": {},
     "output_type": "execute_result"
    },
    {
     "data": {
      "image/png": "[encoded data removed]",
      "text/plain": [
       "<Figure size 720x720 with 1 Axes>"
      ]
     },
     "metadata": {
      "needs_background": "light"
     },
     "output_type": "display_data"
    }
   ],
   "source": [
    "plt.figure(figsize=(10,10))\n",
    "sns.heatmap(df.isnull(), cbar=False, cmap='YlGnBu')"
   ]
  },
  {
   "cell_type": "code",
   "execution_count": 18,
   "metadata": {},
   "outputs": [
    {
     "data": {
      "text/plain": [
       "<matplotlib.axes._subplots.AxesSubplot at 0x152e3c8fac8>"
      ]
     },
     "execution_count": 18,
     "metadata": {},
     "output_type": "execute_result"
    },
    {
     "data": {
      "image/png": "[encoded data removed]",
      "text/plain": [
       "<Figure size 720x720 with 1 Axes>"
      ]
     },
     "metadata": {
      "needs_background": "light"
     },
     "output_type": "display_data"
    }
   ],
   "source": [
    "plt.figure(figsize=(10,10))\n",
    "sns.heatmap(test.isnull(), cbar=False, cmap='YlGnBu')"
   ]
  },
  {
   "cell_type": "code",
   "execution_count": 19,
   "metadata": {
    "scrolled": true
   },
   "outputs": [
    {
     "data": {
      "text/plain": [
       "((1460, 81), (1459, 80))"
      ]
     },
     "execution_count": 19,
     "metadata": {},
     "output_type": "execute_result"
    }
   ],
   "source": [
    "df.shape, test.shape"
   ]
  },
  {
   "cell_type": "code",
   "execution_count": 20,
   "metadata": {},
   "outputs": [
    {
     "data": {
      "text/plain": [
       "Index(['Id', 'MSSubClass', 'MSZoning', 'LotFrontage', 'LotArea', 'Street',\n",
       "       'Alley', 'LotShape', 'LandContour', 'Utilities', 'LotConfig',\n",
       "       'LandSlope', 'Neighborhood', 'Condition1', 'Condition2', 'BldgType',\n",
       "       'HouseStyle', 'OverallQual', 'OverallCond', 'YearBuilt', 'YearRemodAdd',\n",
       "       'RoofStyle', 'RoofMatl', 'Exterior1st', 'Exterior2nd', 'MasVnrType',\n",
       "       'MasVnrArea', 'ExterQual', 'ExterCond', 'Foundation', 'BsmtQual',\n",
       "       'BsmtCond', 'BsmtExposure', 'BsmtFinType1', 'BsmtFinSF1',\n",
       "       'BsmtFinType2', 'BsmtFinSF2', 'BsmtUnfSF', 'TotalBsmtSF', 'Heating',\n",
       "       'HeatingQC', 'CentralAir', 'Electrical', '1stFlrSF', '2ndFlrSF',\n",
       "       'LowQualFinSF', 'GrLivArea', 'BsmtFullBath', 'BsmtHalfBath', 'FullBath',\n",
       "       'HalfBath', 'BedroomAbvGr', 'KitchenAbvGr', 'KitchenQual',\n",
       "       'TotRmsAbvGrd', 'Functional', 'Fireplaces', 'FireplaceQu', 'GarageType',\n",
       "       'GarageYrBlt', 'GarageFinish', 'GarageCars', 'GarageArea', 'GarageQual',\n",
       "       'GarageCond', 'PavedDrive', 'WoodDeckSF', 'OpenPorchSF',\n",
       "       'EnclosedPorch', '3SsnPorch', 'ScreenPorch', 'PoolArea', 'PoolQC',\n",
       "       'Fence', 'MiscFeature', 'MiscVal', 'MoSold', 'YrSold', 'SaleType',\n",
       "       'SaleCondition', 'SalePrice'],\n",
       "      dtype='object')"
      ]
     },
     "execution_count": 20,
     "metadata": {},
     "output_type": "execute_result"
    }
   ],
   "source": [
    "df.columns"
   ]
  },
  {
   "cell_type": "code",
   "execution_count": 21,
   "metadata": {},
   "outputs": [
    {
     "data": {
      "text/plain": [
       "Index(['Id', 'MSSubClass', 'MSZoning', 'LotFrontage', 'LotArea', 'Street',\n",
       "       'Alley', 'LotShape', 'LandContour', 'Utilities', 'LotConfig',\n",
       "       'LandSlope', 'Neighborhood', 'Condition1', 'Condition2', 'BldgType',\n",
       "       'HouseStyle', 'OverallQual', 'OverallCond', 'YearBuilt', 'YearRemodAdd',\n",
       "       'RoofStyle', 'RoofMatl', 'Exterior1st', 'Exterior2nd', 'MasVnrType',\n",
       "       'MasVnrArea', 'ExterQual', 'ExterCond', 'Foundation', 'BsmtQual',\n",
       "       'BsmtCond', 'BsmtExposure', 'BsmtFinType1', 'BsmtFinSF1',\n",
       "       'BsmtFinType2', 'BsmtFinSF2', 'BsmtUnfSF', 'TotalBsmtSF', 'Heating',\n",
       "       'HeatingQC', 'CentralAir', 'Electrical', '1stFlrSF', '2ndFlrSF',\n",
       "       'LowQualFinSF', 'GrLivArea', 'BsmtFullBath', 'BsmtHalfBath', 'FullBath',\n",
       "       'HalfBath', 'BedroomAbvGr', 'KitchenAbvGr', 'KitchenQual',\n",
       "       'TotRmsAbvGrd', 'Functional', 'Fireplaces', 'FireplaceQu', 'GarageType',\n",
       "       'GarageYrBlt', 'GarageFinish', 'GarageCars', 'GarageArea', 'GarageQual',\n",
       "       'GarageCond', 'PavedDrive', 'WoodDeckSF', 'OpenPorchSF',\n",
       "       'EnclosedPorch', '3SsnPorch', 'ScreenPorch', 'PoolArea', 'PoolQC',\n",
       "       'Fence', 'MiscFeature', 'MiscVal', 'MoSold', 'YrSold', 'SaleType',\n",
       "       'SaleCondition'],\n",
       "      dtype='object')"
      ]
     },
     "execution_count": 21,
     "metadata": {},
     "output_type": "execute_result"
    }
   ],
   "source": [
    "test.columns"
   ]
  },
  {
   "cell_type": "markdown",
   "metadata": {},
   "source": [
    "## Modeling"
   ]
  },
  {
   "cell_type": "code",
   "execution_count": 22,
   "metadata": {},
   "outputs": [
    {
     "data": {
      "text/plain": [
       "RandomForestRegressor(n_jobs=-1, random_state=42)"
      ]
     },
     "execution_count": 22,
     "metadata": {},
     "output_type": "execute_result"
    }
   ],
   "source": [
    "from sklearn.ensemble import RandomForestRegressor\n",
    "#Instantiate\n",
    "model = RandomForestRegressor(n_jobs = -1,\n",
    "                              random_state = 42)\n",
    "\n",
    "# Fit the model\n",
    "model.fit(df.drop(\"SalePrice\", axis=1), df[\"SalePrice\"])"
   ]
  },
  {
   "cell_type": "code",
   "execution_count": 23,
   "metadata": {},
   "outputs": [
    {
     "data": {
      "text/plain": [
       "0.9802035801281889"
      ]
     },
     "execution_count": 23,
     "metadata": {},
     "output_type": "execute_result"
    }
   ],
   "source": [
    "# Score the model\n",
    "model.score(df.drop(\"SalePrice\", axis=1), df[\"SalePrice\"])"
   ]
  },
  {
   "cell_type": "code",
   "execution_count": 24,
   "metadata": {},
   "outputs": [],
   "source": [
    "X_train, y_train = df.drop(\"SalePrice\", axis = 1), df.SalePrice"
   ]
  },
  {
   "cell_type": "markdown",
   "metadata": {},
   "source": [
    "This is a good baseline, but since we evaluated on the same data that we trained on... it is not reliable.\n",
    "\n",
    "Also score returns the coefficient of determination R^2 of the prediction.... NOT RMSE"
   ]
  },
  {
   "cell_type": "code",
   "execution_count": 25,
   "metadata": {},
   "outputs": [],
   "source": [
    "# Create evaluation function\n",
    "from sklearn.metrics import mean_squared_log_error, mean_absolute_error, r2_score, mean_squared_error\n",
    "\n",
    "# Create function to evaluate model on a few different levels\n",
    "def show_scores(model):\n",
    "    train_preds = model.predict(X_train)\n",
    "    # If our model performs better on the training set, it could be a sign our model is overfitting\n",
    "    scores = {\"Training MAE\": mean_absolute_error(y_train, train_preds),\n",
    "              \"Training RMSE\": mean_squared_error(y_train, train_preds, squared=False),\n",
    "              \"Training R^2\": r2_score(y_train, train_preds)}\n",
    "    return scores"
   ]
  },
  {
   "cell_type": "code",
   "execution_count": 26,
   "metadata": {
    "scrolled": true
   },
   "outputs": [
    {
     "data": {
      "text/plain": [
       "{'Training MAE': 6539.731568493151,\n",
       " 'Training RMSE': 11173.711777127626,\n",
       " 'Training R^2': 0.9802035801281889}"
      ]
     },
     "execution_count": 26,
     "metadata": {},
     "output_type": "execute_result"
    }
   ],
   "source": [
    "show_scores(model)"
   ]
  },
  {
   "cell_type": "markdown",
   "metadata": {},
   "source": [
    "## Randomized Search CV"
   ]
  },
  {
   "cell_type": "code",
   "execution_count": 27,
   "metadata": {},
   "outputs": [
    {
     "name": "stdout",
     "output_type": "stream",
     "text": [
      "Fitting 5 folds for each of 25 candidates, totalling 125 fits\n"
     ]
    },
    {
     "name": "stderr",
     "output_type": "stream",
     "text": [
      "[Parallel(n_jobs=1)]: Using backend SequentialBackend with 1 concurrent workers.\n",
      "[Parallel(n_jobs=1)]: Done 125 out of 125 | elapsed:  1.6min finished\n"
     ]
    },
    {
     "name": "stdout",
     "output_type": "stream",
     "text": [
      "Wall time: 1min 37s\n"
     ]
    },
    {
     "data": {
      "text/plain": [
       "RandomizedSearchCV(cv=5,\n",
       "                   estimator=RandomForestRegressor(n_jobs=-1, random_state=0),\n",
       "                   n_iter=25,\n",
       "                   param_distributions={'max_depth': [None, 3, 5, 10],\n",
       "                                        'max_features': [0.5, 1, 'sqrt',\n",
       "                                                         'auto'],\n",
       "                                        'min_samples_leaf': array([ 1,  3,  5,  7,  9, 11, 13, 15, 17, 19]),\n",
       "                                        'min_samples_split': array([ 2,  4,  6,  8, 10, 12, 14, 16, 18]),\n",
       "                                        'n_estimators': array([ 10,  20,  30,  40,  50,  60,  70,  80,  90, 100, 110, 120, 130,\n",
       "       140,...0, 170, 180, 190, 200, 210, 220, 230, 240, 250, 260,\n",
       "       270, 280, 290, 300, 310, 320, 330, 340, 350, 360, 370, 380, 390,\n",
       "       400, 410, 420, 430, 440, 450, 460, 470, 480, 490, 500, 510, 520,\n",
       "       530, 540, 550, 560, 570, 580, 590, 600, 610, 620, 630, 640, 650,\n",
       "       660, 670, 680, 690, 700, 710, 720, 730, 740, 750, 760, 770, 780,\n",
       "       790, 800, 810, 820, 830, 840, 850, 860, 870, 880, 890, 900, 910,\n",
       "       920, 930, 940, 950, 960, 970, 980, 990])},\n",
       "                   verbose=True)"
      ]
     },
     "execution_count": 27,
     "metadata": {},
     "output_type": "execute_result"
    }
   ],
   "source": [
    "%%time\n",
    "from sklearn.model_selection import RandomizedSearchCV\n",
    "\n",
    "# Different RandomForestRegressor Hyperparameters\n",
    "\n",
    "rf_grid = {\"n_estimators\": np.arange(10, 1000, 10),\n",
    "           \"max_depth\": [None, 3, 5, 10],\n",
    "           \"min_samples_split\": np.arange(2, 20, 2),\n",
    "           \"min_samples_leaf\": np.arange(1, 20, 2),\n",
    "           \"max_features\": [0.5, 1, \"sqrt\", \"auto\"]}\n",
    "\n",
    "# Instantiate RandomizedSearchCV model\n",
    "rs_model = RandomizedSearchCV(RandomForestRegressor(n_jobs = -1,\n",
    "                                                    random_state = 0),\n",
    "                             param_distributions = rf_grid,\n",
    "                              # raising the n_iter's would increase computing time\n",
    "                              # But it would also more likely find the best hyper_parameters\n",
    "                             n_iter=25,\n",
    "                             cv=5,\n",
    "                             verbose=True)\n",
    "\n",
    "# Fit the randomizedsearchcv model\n",
    "rs_model.fit(X_train, y_train)"
   ]
  },
  {
   "cell_type": "code",
   "execution_count": 28,
   "metadata": {},
   "outputs": [
    {
     "data": {
      "text/plain": [
       "{'n_estimators': 470,\n",
       " 'min_samples_split': 6,\n",
       " 'min_samples_leaf': 1,\n",
       " 'max_features': 0.5,\n",
       " 'max_depth': 10}"
      ]
     },
     "execution_count": 28,
     "metadata": {},
     "output_type": "execute_result"
    }
   ],
   "source": [
    "rs_model.best_params_"
   ]
  },
  {
   "cell_type": "code",
   "execution_count": 29,
   "metadata": {},
   "outputs": [
    {
     "data": {
      "text/plain": [
       "{'Training MAE': 8870.3432196862,\n",
       " 'Training RMSE': 13919.016015999294,\n",
       " 'Training R^2': 0.9692808781788402}"
      ]
     },
     "execution_count": 29,
     "metadata": {},
     "output_type": "execute_result"
    }
   ],
   "source": [
    "show_scores(rs_model)"
   ]
  },
  {
   "cell_type": "markdown",
   "metadata": {},
   "source": [
    "## Ideal Model with RandomForest"
   ]
  },
  {
   "cell_type": "code",
   "execution_count": 47,
   "metadata": {},
   "outputs": [
    {
     "name": "stdout",
     "output_type": "stream",
     "text": [
      "Wall time: 963 ms\n"
     ]
    },
    {
     "data": {
      "text/plain": [
       "RandomForestRegressor(max_depth=10, max_features=0.5, min_samples_split=6,\n",
       "                      n_estimators=470, n_jobs=-1, random_state=0)"
      ]
     },
     "execution_count": 47,
     "metadata": {},
     "output_type": "execute_result"
    }
   ],
   "source": [
    "%%time\n",
    "\n",
    "# most ideal hyperparameters\n",
    "ideal_model = RandomForestRegressor(n_estimators = 470,\n",
    "                                    min_samples_leaf = 1,\n",
    "                                    min_samples_split = 6,\n",
    "                                    max_features = 0.5,\n",
    "                                    n_jobs =-1,\n",
    "                                    max_depth=10,\n",
    "                                    random_state=0)\n",
    "\n",
    "# Fit the ideal model\n",
    "ideal_model.fit(X_train, y_train)"
   ]
  },
  {
   "cell_type": "code",
   "execution_count": 48,
   "metadata": {},
   "outputs": [],
   "source": [
    "test_preds = ideal_model.predict(test)"
   ]
  },
  {
   "cell_type": "code",
   "execution_count": 49,
   "metadata": {},
   "outputs": [
    {
     "data": {
      "text/plain": [
       "1459"
      ]
     },
     "execution_count": 49,
     "metadata": {},
     "output_type": "execute_result"
    }
   ],
   "source": [
    "len(test_preds)"
   ]
  },
  {
   "cell_type": "code",
   "execution_count": 50,
   "metadata": {},
   "outputs": [
    {
     "data": {
      "text/html": [
       "<div>\n",
       "<style scoped>\n",
       "    .dataframe tbody tr th:only-of-type {\n",
       "        vertical-align: middle;\n",
       "    }\n",
       "\n",
       "    .dataframe tbody tr th {\n",
       "        vertical-align: top;\n",
       "    }\n",
       "\n",
       "    .dataframe thead th {\n",
       "        text-align: right;\n",
       "    }\n",
       "</style>\n",
       "<table border=\"1\" class=\"dataframe\">\n",
       "  <thead>\n",
       "    <tr style=\"text-align: right;\">\n",
       "      <th></th>\n",
       "      <th>Id</th>\n",
       "      <th>SalePrice</th>\n",
       "    </tr>\n",
       "  </thead>\n",
       "  <tbody>\n",
       "    <tr>\n",
       "      <th>0</th>\n",
       "      <td>1461</td>\n",
       "      <td>124727.192869</td>\n",
       "    </tr>\n",
       "    <tr>\n",
       "      <th>1</th>\n",
       "      <td>1462</td>\n",
       "      <td>152315.667876</td>\n",
       "    </tr>\n",
       "    <tr>\n",
       "      <th>2</th>\n",
       "      <td>1463</td>\n",
       "      <td>177411.335119</td>\n",
       "    </tr>\n",
       "    <tr>\n",
       "      <th>3</th>\n",
       "      <td>1464</td>\n",
       "      <td>182099.124114</td>\n",
       "    </tr>\n",
       "    <tr>\n",
       "      <th>4</th>\n",
       "      <td>1465</td>\n",
       "      <td>198344.537825</td>\n",
       "    </tr>\n",
       "    <tr>\n",
       "      <th>...</th>\n",
       "      <td>...</td>\n",
       "      <td>...</td>\n",
       "    </tr>\n",
       "    <tr>\n",
       "      <th>1454</th>\n",
       "      <td>2915</td>\n",
       "      <td>86312.555609</td>\n",
       "    </tr>\n",
       "    <tr>\n",
       "      <th>1455</th>\n",
       "      <td>2916</td>\n",
       "      <td>87583.031238</td>\n",
       "    </tr>\n",
       "    <tr>\n",
       "      <th>1456</th>\n",
       "      <td>2917</td>\n",
       "      <td>153392.621339</td>\n",
       "    </tr>\n",
       "    <tr>\n",
       "      <th>1457</th>\n",
       "      <td>2918</td>\n",
       "      <td>113143.114666</td>\n",
       "    </tr>\n",
       "    <tr>\n",
       "      <th>1458</th>\n",
       "      <td>2919</td>\n",
       "      <td>230746.917022</td>\n",
       "    </tr>\n",
       "  </tbody>\n",
       "</table>\n",
       "<p>1459 rows × 2 columns</p>\n",
       "</div>"
      ],
      "text/plain": [
       "        Id      SalePrice\n",
       "0     1461  124727.192869\n",
       "1     1462  152315.667876\n",
       "2     1463  177411.335119\n",
       "3     1464  182099.124114\n",
       "4     1465  198344.537825\n",
       "...    ...            ...\n",
       "1454  2915   86312.555609\n",
       "1455  2916   87583.031238\n",
       "1456  2917  153392.621339\n",
       "1457  2918  113143.114666\n",
       "1458  2919  230746.917022\n",
       "\n",
       "[1459 rows x 2 columns]"
      ]
     },
     "execution_count": 50,
     "metadata": {},
     "output_type": "execute_result"
    }
   ],
   "source": [
    "df_preds = pd.DataFrame()\n",
    "df_preds[\"Id\"] = test[\"Id\"]\n",
    "df_preds[\"SalePrice\"] = test_preds\n",
    "df_preds"
   ]
  },
  {
   "cell_type": "markdown",
   "metadata": {},
   "source": [
    "## XG Boost"
   ]
  },
  {
   "cell_type": "code",
   "execution_count": 34,
   "metadata": {},
   "outputs": [
    {
     "data": {
      "text/plain": [
       "XGBRegressor(base_score=0.5, booster='gbtree', colsample_bylevel=1,\n",
       "             colsample_bynode=1, colsample_bytree=1, gamma=0, gpu_id=-1,\n",
       "             importance_type='gain', interaction_constraints='',\n",
       "             learning_rate=0.300000012, max_delta_step=0, max_depth=6,\n",
       "             min_child_weight=1, missing=nan, monotone_constraints='()',\n",
       "             n_estimators=100, n_jobs=0, num_parallel_tree=1, random_state=0,\n",
       "             reg_alpha=0, reg_lambda=1, scale_pos_weight=1, subsample=1,\n",
       "             tree_method='exact', validate_parameters=1, verbosity=None)"
      ]
     },
     "execution_count": 34,
     "metadata": {},
     "output_type": "execute_result"
    }
   ],
   "source": [
    "from xgboost import XGBRegressor\n",
    "regressor = XGBRegressor(random_state = 0)\n",
    "regressor.fit(X_train, y_train)"
   ]
  },
  {
   "cell_type": "code",
   "execution_count": 35,
   "metadata": {
    "scrolled": false
   },
   "outputs": [
    {
     "data": {
      "text/plain": [
       "{'Training MAE': 1081.9616518621576,\n",
       " 'Training RMSE': 1526.0930143890987,\n",
       " 'Training R^2': 0.9996307217441889}"
      ]
     },
     "execution_count": 35,
     "metadata": {},
     "output_type": "execute_result"
    }
   ],
   "source": [
    "show_scores(regressor)"
   ]
  },
  {
   "cell_type": "code",
   "execution_count": 36,
   "metadata": {},
   "outputs": [],
   "source": [
    "test_preds_boost = regressor.predict(test)"
   ]
  },
  {
   "cell_type": "code",
   "execution_count": 37,
   "metadata": {},
   "outputs": [
    {
     "data": {
      "text/html": [
       "<div>\n",
       "<style scoped>\n",
       "    .dataframe tbody tr th:only-of-type {\n",
       "        vertical-align: middle;\n",
       "    }\n",
       "\n",
       "    .dataframe tbody tr th {\n",
       "        vertical-align: top;\n",
       "    }\n",
       "\n",
       "    .dataframe thead th {\n",
       "        text-align: right;\n",
       "    }\n",
       "</style>\n",
       "<table border=\"1\" class=\"dataframe\">\n",
       "  <thead>\n",
       "    <tr style=\"text-align: right;\">\n",
       "      <th></th>\n",
       "      <th>Id</th>\n",
       "      <th>SalePrice</th>\n",
       "    </tr>\n",
       "  </thead>\n",
       "  <tbody>\n",
       "    <tr>\n",
       "      <th>0</th>\n",
       "      <td>1461</td>\n",
       "      <td>116433.296875</td>\n",
       "    </tr>\n",
       "    <tr>\n",
       "      <th>1</th>\n",
       "      <td>1462</td>\n",
       "      <td>148036.515625</td>\n",
       "    </tr>\n",
       "    <tr>\n",
       "      <th>2</th>\n",
       "      <td>1463</td>\n",
       "      <td>183923.093750</td>\n",
       "    </tr>\n",
       "    <tr>\n",
       "      <th>3</th>\n",
       "      <td>1464</td>\n",
       "      <td>202934.312500</td>\n",
       "    </tr>\n",
       "    <tr>\n",
       "      <th>4</th>\n",
       "      <td>1465</td>\n",
       "      <td>178378.312500</td>\n",
       "    </tr>\n",
       "    <tr>\n",
       "      <th>...</th>\n",
       "      <td>...</td>\n",
       "      <td>...</td>\n",
       "    </tr>\n",
       "    <tr>\n",
       "      <th>1454</th>\n",
       "      <td>2915</td>\n",
       "      <td>84229.117188</td>\n",
       "    </tr>\n",
       "    <tr>\n",
       "      <th>1455</th>\n",
       "      <td>2916</td>\n",
       "      <td>79941.960938</td>\n",
       "    </tr>\n",
       "    <tr>\n",
       "      <th>1456</th>\n",
       "      <td>2917</td>\n",
       "      <td>162267.437500</td>\n",
       "    </tr>\n",
       "    <tr>\n",
       "      <th>1457</th>\n",
       "      <td>2918</td>\n",
       "      <td>86800.765625</td>\n",
       "    </tr>\n",
       "    <tr>\n",
       "      <th>1458</th>\n",
       "      <td>2919</td>\n",
       "      <td>202893.031250</td>\n",
       "    </tr>\n",
       "  </tbody>\n",
       "</table>\n",
       "<p>1459 rows × 2 columns</p>\n",
       "</div>"
      ],
      "text/plain": [
       "        Id      SalePrice\n",
       "0     1461  116433.296875\n",
       "1     1462  148036.515625\n",
       "2     1463  183923.093750\n",
       "3     1464  202934.312500\n",
       "4     1465  178378.312500\n",
       "...    ...            ...\n",
       "1454  2915   84229.117188\n",
       "1455  2916   79941.960938\n",
       "1456  2917  162267.437500\n",
       "1457  2918   86800.765625\n",
       "1458  2919  202893.031250\n",
       "\n",
       "[1459 rows x 2 columns]"
      ]
     },
     "execution_count": 37,
     "metadata": {},
     "output_type": "execute_result"
    }
   ],
   "source": [
    "df_preds_boost = pd.DataFrame()\n",
    "df_preds_boost[\"Id\"] = test[\"Id\"]\n",
    "df_preds_boost[\"SalePrice\"] = test_preds_boost\n",
    "df_preds_boost"
   ]
  },
  {
   "cell_type": "markdown",
   "metadata": {},
   "source": [
    "## CatBoost"
   ]
  },
  {
   "cell_type": "code",
   "execution_count": 38,
   "metadata": {},
   "outputs": [
    {
     "name": "stdout",
     "output_type": "stream",
     "text": [
      "Learning rate set to 0.04175\n",
      "0:\tlearn: 77381.8047638\ttotal: 56.6ms\tremaining: 56.6s\n",
      "1:\tlearn: 75393.7398016\ttotal: 59.2ms\tremaining: 29.5s\n",
      "2:\tlearn: 73259.9904252\ttotal: 61.6ms\tremaining: 20.5s\n",
      "3:\tlearn: 71342.8268973\ttotal: 64.1ms\tremaining: 16s\n",
      "4:\tlearn: 69454.9987491\ttotal: 66.6ms\tremaining: 13.3s\n",
      "5:\tlearn: 67659.3888738\ttotal: 69.1ms\tremaining: 11.4s\n",
      "6:\tlearn: 65913.4260706\ttotal: 71.8ms\tremaining: 10.2s\n",
      "7:\tlearn: 64557.5401658\ttotal: 74.2ms\tremaining: 9.2s\n",
      "8:\tlearn: 62944.5334760\ttotal: 76.7ms\tremaining: 8.45s\n",
      "9:\tlearn: 61377.5310414\ttotal: 79.2ms\tremaining: 7.84s\n",
      "10:\tlearn: 60081.5351993\ttotal: 81.8ms\tremaining: 7.35s\n",
      "11:\tlearn: 58703.0704996\ttotal: 84.2ms\tremaining: 6.94s\n",
      "12:\tlearn: 57307.0160663\ttotal: 86.7ms\tremaining: 6.58s\n",
      "13:\tlearn: 56112.7175361\ttotal: 89.3ms\tremaining: 6.29s\n",
      "14:\tlearn: 54921.6693657\ttotal: 92ms\tremaining: 6.04s\n",
      "15:\tlearn: 53767.7204671\ttotal: 94.8ms\tremaining: 5.83s\n",
      "16:\tlearn: 52736.1581782\ttotal: 97.4ms\tremaining: 5.63s\n",
      "17:\tlearn: 51674.6480109\ttotal: 99.8ms\tremaining: 5.44s\n",
      "18:\tlearn: 50493.4347687\ttotal: 102ms\tremaining: 5.28s\n",
      "19:\tlearn: 49540.8230860\ttotal: 105ms\tremaining: 5.13s\n",
      "20:\tlearn: 48622.4374358\ttotal: 107ms\tremaining: 5s\n",
      "21:\tlearn: 47560.2646376\ttotal: 110ms\tremaining: 4.87s\n",
      "22:\tlearn: 46669.5131595\ttotal: 112ms\tremaining: 4.76s\n",
      "23:\tlearn: 45865.8202055\ttotal: 114ms\tremaining: 4.65s\n",
      "24:\tlearn: 45052.5623498\ttotal: 117ms\tremaining: 4.55s\n",
      "25:\tlearn: 44365.3014442\ttotal: 119ms\tremaining: 4.47s\n",
      "26:\tlearn: 43590.9658772\ttotal: 122ms\tremaining: 4.41s\n",
      "27:\tlearn: 42841.7370819\ttotal: 125ms\tremaining: 4.33s\n",
      "28:\tlearn: 42064.7801391\ttotal: 127ms\tremaining: 4.27s\n",
      "29:\tlearn: 41330.7195768\ttotal: 130ms\tremaining: 4.2s\n",
      "30:\tlearn: 40711.3753687\ttotal: 132ms\tremaining: 4.14s\n",
      "31:\tlearn: 40068.7412644\ttotal: 135ms\tremaining: 4.08s\n",
      "32:\tlearn: 39482.9994431\ttotal: 138ms\tremaining: 4.03s\n",
      "33:\tlearn: 38915.7170268\ttotal: 140ms\tremaining: 3.97s\n",
      "34:\tlearn: 38364.4664826\ttotal: 143ms\tremaining: 3.93s\n",
      "35:\tlearn: 37781.0872461\ttotal: 145ms\tremaining: 3.89s\n",
      "36:\tlearn: 37228.0350935\ttotal: 148ms\tremaining: 3.84s\n",
      "37:\tlearn: 36713.8600974\ttotal: 150ms\tremaining: 3.8s\n",
      "38:\tlearn: 36236.3636517\ttotal: 153ms\tremaining: 3.76s\n",
      "39:\tlearn: 35763.5323352\ttotal: 155ms\tremaining: 3.73s\n",
      "40:\tlearn: 35299.7842671\ttotal: 158ms\tremaining: 3.7s\n",
      "41:\tlearn: 34902.5179352\ttotal: 161ms\tremaining: 3.66s\n",
      "42:\tlearn: 34451.8119224\ttotal: 163ms\tremaining: 3.63s\n",
      "43:\tlearn: 34020.9818805\ttotal: 166ms\tremaining: 3.6s\n",
      "44:\tlearn: 33645.3167736\ttotal: 169ms\tremaining: 3.58s\n",
      "45:\tlearn: 33214.1794188\ttotal: 172ms\tremaining: 3.56s\n",
      "46:\tlearn: 32877.2497658\ttotal: 175ms\tremaining: 3.54s\n",
      "47:\tlearn: 32487.2023138\ttotal: 177ms\tremaining: 3.51s\n",
      "48:\tlearn: 32049.3750525\ttotal: 180ms\tremaining: 3.49s\n",
      "49:\tlearn: 31653.7395238\ttotal: 183ms\tremaining: 3.48s\n",
      "50:\tlearn: 31335.1152239\ttotal: 186ms\tremaining: 3.46s\n",
      "51:\tlearn: 30995.6122382\ttotal: 189ms\tremaining: 3.44s\n",
      "52:\tlearn: 30609.2675886\ttotal: 191ms\tremaining: 3.41s\n",
      "53:\tlearn: 30291.9357592\ttotal: 193ms\tremaining: 3.39s\n",
      "54:\tlearn: 29967.5784121\ttotal: 196ms\tremaining: 3.37s\n",
      "55:\tlearn: 29712.8808088\ttotal: 198ms\tremaining: 3.34s\n",
      "56:\tlearn: 29434.6298612\ttotal: 201ms\tremaining: 3.32s\n",
      "57:\tlearn: 29139.9822712\ttotal: 203ms\tremaining: 3.3s\n",
      "58:\tlearn: 28864.9019694\ttotal: 206ms\tremaining: 3.29s\n",
      "59:\tlearn: 28654.6824139\ttotal: 209ms\tremaining: 3.27s\n",
      "60:\tlearn: 28411.2403925\ttotal: 211ms\tremaining: 3.25s\n",
      "61:\tlearn: 28121.7390293\ttotal: 214ms\tremaining: 3.23s\n",
      "62:\tlearn: 27907.6670528\ttotal: 216ms\tremaining: 3.22s\n",
      "63:\tlearn: 27637.8227167\ttotal: 219ms\tremaining: 3.2s\n",
      "64:\tlearn: 27421.5937603\ttotal: 222ms\tremaining: 3.19s\n",
      "65:\tlearn: 27205.4280600\ttotal: 224ms\tremaining: 3.17s\n",
      "66:\tlearn: 26990.6137202\ttotal: 227ms\tremaining: 3.15s\n",
      "67:\tlearn: 26742.9520401\ttotal: 229ms\tremaining: 3.14s\n",
      "68:\tlearn: 26554.6170709\ttotal: 231ms\tremaining: 3.12s\n",
      "69:\tlearn: 26315.6314954\ttotal: 234ms\tremaining: 3.11s\n",
      "70:\tlearn: 26074.2484692\ttotal: 237ms\tremaining: 3.1s\n",
      "71:\tlearn: 25869.5644689\ttotal: 239ms\tremaining: 3.08s\n",
      "72:\tlearn: 25714.4856002\ttotal: 242ms\tremaining: 3.07s\n",
      "73:\tlearn: 25535.3842479\ttotal: 244ms\tremaining: 3.06s\n",
      "74:\tlearn: 25381.8997545\ttotal: 247ms\tremaining: 3.04s\n",
      "75:\tlearn: 25252.4257544\ttotal: 249ms\tremaining: 3.03s\n",
      "76:\tlearn: 25126.4200125\ttotal: 252ms\tremaining: 3.02s\n",
      "77:\tlearn: 24964.8262177\ttotal: 255ms\tremaining: 3.01s\n",
      "78:\tlearn: 24811.9222693\ttotal: 257ms\tremaining: 3s\n",
      "79:\tlearn: 24631.2638739\ttotal: 260ms\tremaining: 2.98s\n",
      "80:\tlearn: 24489.6726386\ttotal: 262ms\tremaining: 2.97s\n",
      "81:\tlearn: 24352.6858371\ttotal: 265ms\tremaining: 2.96s\n",
      "82:\tlearn: 24181.3144744\ttotal: 268ms\tremaining: 2.96s\n",
      "83:\tlearn: 24009.1423633\ttotal: 270ms\tremaining: 2.95s\n",
      "84:\tlearn: 23839.9785781\ttotal: 273ms\tremaining: 2.94s\n",
      "85:\tlearn: 23733.6923412\ttotal: 275ms\tremaining: 2.93s\n",
      "86:\tlearn: 23591.0089446\ttotal: 278ms\tremaining: 2.92s\n",
      "87:\tlearn: 23446.6240322\ttotal: 281ms\tremaining: 2.91s\n",
      "88:\tlearn: 23318.5207219\ttotal: 284ms\tremaining: 2.9s\n",
      "89:\tlearn: 23228.6597829\ttotal: 286ms\tremaining: 2.89s\n",
      "90:\tlearn: 23088.0132865\ttotal: 288ms\tremaining: 2.88s\n",
      "91:\tlearn: 23012.9068275\ttotal: 291ms\tremaining: 2.87s\n",
      "92:\tlearn: 22917.0599440\ttotal: 294ms\tremaining: 2.86s\n",
      "93:\tlearn: 22824.0315776\ttotal: 296ms\tremaining: 2.85s\n",
      "94:\tlearn: 22707.2526300\ttotal: 299ms\tremaining: 2.85s\n",
      "95:\tlearn: 22624.0076840\ttotal: 301ms\tremaining: 2.84s\n",
      "96:\tlearn: 22525.4259833\ttotal: 304ms\tremaining: 2.83s\n",
      "97:\tlearn: 22451.8779604\ttotal: 306ms\tremaining: 2.82s\n",
      "98:\tlearn: 22343.3018745\ttotal: 309ms\tremaining: 2.81s\n",
      "99:\tlearn: 22271.3860164\ttotal: 312ms\tremaining: 2.8s\n",
      "100:\tlearn: 22197.4100320\ttotal: 314ms\tremaining: 2.8s\n",
      "101:\tlearn: 22090.1010540\ttotal: 317ms\tremaining: 2.79s\n",
      "102:\tlearn: 21995.1058867\ttotal: 319ms\tremaining: 2.78s\n",
      "103:\tlearn: 21898.9268470\ttotal: 322ms\tremaining: 2.77s\n",
      "104:\tlearn: 21827.3858322\ttotal: 325ms\tremaining: 2.77s\n",
      "105:\tlearn: 21755.9720807\ttotal: 327ms\tremaining: 2.76s\n",
      "106:\tlearn: 21674.5303076\ttotal: 330ms\tremaining: 2.75s\n",
      "107:\tlearn: 21600.8659821\ttotal: 332ms\tremaining: 2.74s\n",
      "108:\tlearn: 21493.4565513\ttotal: 335ms\tremaining: 2.73s\n",
      "109:\tlearn: 21410.9505184\ttotal: 337ms\tremaining: 2.73s\n",
      "110:\tlearn: 21357.6372153\ttotal: 340ms\tremaining: 2.73s\n",
      "111:\tlearn: 21272.2851404\ttotal: 343ms\tremaining: 2.72s\n",
      "112:\tlearn: 21199.6383839\ttotal: 346ms\tremaining: 2.71s\n",
      "113:\tlearn: 21151.7198554\ttotal: 348ms\tremaining: 2.71s\n",
      "114:\tlearn: 21088.3481186\ttotal: 351ms\tremaining: 2.7s\n",
      "115:\tlearn: 21029.7449327\ttotal: 353ms\tremaining: 2.69s\n",
      "116:\tlearn: 20947.5095631\ttotal: 356ms\tremaining: 2.69s\n",
      "117:\tlearn: 20887.7177900\ttotal: 359ms\tremaining: 2.68s\n",
      "118:\tlearn: 20830.8073965\ttotal: 361ms\tremaining: 2.67s\n",
      "119:\tlearn: 20777.1723300\ttotal: 364ms\tremaining: 2.67s\n",
      "120:\tlearn: 20697.5141661\ttotal: 367ms\tremaining: 2.67s\n",
      "121:\tlearn: 20638.1772370\ttotal: 370ms\tremaining: 2.66s\n",
      "122:\tlearn: 20561.9482326\ttotal: 373ms\tremaining: 2.66s\n",
      "123:\tlearn: 20503.3259279\ttotal: 375ms\tremaining: 2.65s\n",
      "124:\tlearn: 20424.4951756\ttotal: 377ms\tremaining: 2.64s\n",
      "125:\tlearn: 20338.2945919\ttotal: 380ms\tremaining: 2.63s\n",
      "126:\tlearn: 20244.7458175\ttotal: 382ms\tremaining: 2.63s\n",
      "127:\tlearn: 20208.1103786\ttotal: 385ms\tremaining: 2.62s\n",
      "128:\tlearn: 20140.2792567\ttotal: 387ms\tremaining: 2.62s\n",
      "129:\tlearn: 20085.3856293\ttotal: 390ms\tremaining: 2.61s\n",
      "130:\tlearn: 20028.0988125\ttotal: 392ms\tremaining: 2.6s\n",
      "131:\tlearn: 19964.4536277\ttotal: 395ms\tremaining: 2.6s\n",
      "132:\tlearn: 19920.4713594\ttotal: 397ms\tremaining: 2.59s\n",
      "133:\tlearn: 19864.7747486\ttotal: 400ms\tremaining: 2.58s\n",
      "134:\tlearn: 19819.2419569\ttotal: 402ms\tremaining: 2.58s\n",
      "135:\tlearn: 19768.4696866\ttotal: 405ms\tremaining: 2.57s\n",
      "136:\tlearn: 19717.7861169\ttotal: 407ms\tremaining: 2.56s\n",
      "137:\tlearn: 19613.8537591\ttotal: 409ms\tremaining: 2.56s\n",
      "138:\tlearn: 19558.9909507\ttotal: 412ms\tremaining: 2.55s\n",
      "139:\tlearn: 19508.8853332\ttotal: 414ms\tremaining: 2.54s\n",
      "140:\tlearn: 19490.2711285\ttotal: 417ms\tremaining: 2.54s\n",
      "141:\tlearn: 19396.3864143\ttotal: 419ms\tremaining: 2.53s\n",
      "142:\tlearn: 19341.1908581\ttotal: 421ms\tremaining: 2.52s\n",
      "143:\tlearn: 19304.2255125\ttotal: 424ms\tremaining: 2.52s\n",
      "144:\tlearn: 19256.2708080\ttotal: 427ms\tremaining: 2.51s\n",
      "145:\tlearn: 19211.6718153\ttotal: 429ms\tremaining: 2.51s\n",
      "146:\tlearn: 19165.7263805\ttotal: 432ms\tremaining: 2.5s\n",
      "147:\tlearn: 19121.0337680\ttotal: 434ms\tremaining: 2.5s\n",
      "148:\tlearn: 19085.0973393\ttotal: 437ms\tremaining: 2.49s\n",
      "149:\tlearn: 19035.4046539\ttotal: 439ms\tremaining: 2.49s\n",
      "150:\tlearn: 18998.5963209\ttotal: 441ms\tremaining: 2.48s\n",
      "151:\tlearn: 18938.8150428\ttotal: 444ms\tremaining: 2.48s\n",
      "152:\tlearn: 18900.7322458\ttotal: 446ms\tremaining: 2.47s\n",
      "153:\tlearn: 18858.0142980\ttotal: 449ms\tremaining: 2.46s\n",
      "154:\tlearn: 18822.7854852\ttotal: 451ms\tremaining: 2.46s\n",
      "155:\tlearn: 18800.3115304\ttotal: 453ms\tremaining: 2.45s\n",
      "156:\tlearn: 18752.3886627\ttotal: 456ms\tremaining: 2.45s\n",
      "157:\tlearn: 18722.6228780\ttotal: 458ms\tremaining: 2.44s\n",
      "158:\tlearn: 18651.2237878\ttotal: 461ms\tremaining: 2.44s\n",
      "159:\tlearn: 18599.6092317\ttotal: 463ms\tremaining: 2.43s\n",
      "160:\tlearn: 18561.3237623\ttotal: 465ms\tremaining: 2.42s\n",
      "161:\tlearn: 18498.9763590\ttotal: 468ms\tremaining: 2.42s\n",
      "162:\tlearn: 18483.0027272\ttotal: 470ms\tremaining: 2.41s\n",
      "163:\tlearn: 18444.2609871\ttotal: 473ms\tremaining: 2.41s\n",
      "164:\tlearn: 18390.7464131\ttotal: 475ms\tremaining: 2.4s\n",
      "165:\tlearn: 18359.7673251\ttotal: 478ms\tremaining: 2.4s\n",
      "166:\tlearn: 18319.6973315\ttotal: 480ms\tremaining: 2.39s\n",
      "167:\tlearn: 18283.5021292\ttotal: 482ms\tremaining: 2.39s\n",
      "168:\tlearn: 18251.0413969\ttotal: 484ms\tremaining: 2.38s\n",
      "169:\tlearn: 18206.3469595\ttotal: 487ms\tremaining: 2.38s\n",
      "170:\tlearn: 18168.1406638\ttotal: 489ms\tremaining: 2.37s\n",
      "171:\tlearn: 18135.0821486\ttotal: 492ms\tremaining: 2.37s\n",
      "172:\tlearn: 18073.5383229\ttotal: 494ms\tremaining: 2.36s\n",
      "173:\tlearn: 18044.5911881\ttotal: 497ms\tremaining: 2.36s\n",
      "174:\tlearn: 18002.1133933\ttotal: 499ms\tremaining: 2.35s\n",
      "175:\tlearn: 17980.6303600\ttotal: 501ms\tremaining: 2.35s\n",
      "176:\tlearn: 17945.5414999\ttotal: 504ms\tremaining: 2.34s\n",
      "177:\tlearn: 17920.7795654\ttotal: 506ms\tremaining: 2.34s\n",
      "178:\tlearn: 17853.4185518\ttotal: 509ms\tremaining: 2.33s\n"
     ]
    },
    {
     "name": "stdout",
     "output_type": "stream",
     "text": [
      "179:\tlearn: 17839.0443814\ttotal: 510ms\tremaining: 2.32s\n",
      "180:\tlearn: 17795.9784138\ttotal: 513ms\tremaining: 2.32s\n",
      "181:\tlearn: 17759.9714051\ttotal: 516ms\tremaining: 2.32s\n",
      "182:\tlearn: 17742.8459108\ttotal: 518ms\tremaining: 2.31s\n",
      "183:\tlearn: 17710.8403781\ttotal: 521ms\tremaining: 2.31s\n",
      "184:\tlearn: 17677.2825330\ttotal: 524ms\tremaining: 2.31s\n",
      "185:\tlearn: 17659.8032234\ttotal: 526ms\tremaining: 2.3s\n",
      "186:\tlearn: 17636.5823056\ttotal: 528ms\tremaining: 2.3s\n",
      "187:\tlearn: 17605.0686753\ttotal: 531ms\tremaining: 2.29s\n",
      "188:\tlearn: 17580.1344256\ttotal: 533ms\tremaining: 2.29s\n",
      "189:\tlearn: 17550.7064141\ttotal: 535ms\tremaining: 2.28s\n",
      "190:\tlearn: 17515.7663001\ttotal: 538ms\tremaining: 2.28s\n",
      "191:\tlearn: 17490.6213361\ttotal: 540ms\tremaining: 2.27s\n",
      "192:\tlearn: 17462.4178838\ttotal: 543ms\tremaining: 2.27s\n",
      "193:\tlearn: 17447.0035047\ttotal: 545ms\tremaining: 2.26s\n",
      "194:\tlearn: 17417.0745421\ttotal: 547ms\tremaining: 2.26s\n",
      "195:\tlearn: 17385.6811277\ttotal: 550ms\tremaining: 2.25s\n",
      "196:\tlearn: 17346.9697081\ttotal: 552ms\tremaining: 2.25s\n",
      "197:\tlearn: 17303.2428661\ttotal: 555ms\tremaining: 2.25s\n",
      "198:\tlearn: 17244.0208320\ttotal: 557ms\tremaining: 2.24s\n",
      "199:\tlearn: 17200.9898583\ttotal: 560ms\tremaining: 2.24s\n",
      "200:\tlearn: 17149.3971404\ttotal: 562ms\tremaining: 2.23s\n",
      "201:\tlearn: 17098.7844346\ttotal: 564ms\tremaining: 2.23s\n",
      "202:\tlearn: 17075.2149437\ttotal: 567ms\tremaining: 2.23s\n",
      "203:\tlearn: 17051.5148471\ttotal: 569ms\tremaining: 2.22s\n",
      "204:\tlearn: 16992.9347125\ttotal: 572ms\tremaining: 2.22s\n",
      "205:\tlearn: 16965.3704508\ttotal: 574ms\tremaining: 2.21s\n",
      "206:\tlearn: 16933.7499500\ttotal: 576ms\tremaining: 2.21s\n",
      "207:\tlearn: 16919.2844408\ttotal: 578ms\tremaining: 2.2s\n",
      "208:\tlearn: 16899.8132061\ttotal: 581ms\tremaining: 2.2s\n",
      "209:\tlearn: 16861.0033545\ttotal: 584ms\tremaining: 2.19s\n",
      "210:\tlearn: 16828.4487406\ttotal: 586ms\tremaining: 2.19s\n",
      "211:\tlearn: 16784.8491978\ttotal: 589ms\tremaining: 2.19s\n",
      "212:\tlearn: 16773.0717028\ttotal: 591ms\tremaining: 2.18s\n",
      "213:\tlearn: 16722.8705954\ttotal: 594ms\tremaining: 2.18s\n",
      "214:\tlearn: 16685.1325004\ttotal: 596ms\tremaining: 2.18s\n",
      "215:\tlearn: 16655.4417952\ttotal: 599ms\tremaining: 2.17s\n",
      "216:\tlearn: 16622.5004104\ttotal: 602ms\tremaining: 2.17s\n",
      "217:\tlearn: 16580.5873673\ttotal: 604ms\tremaining: 2.17s\n",
      "218:\tlearn: 16569.7236682\ttotal: 607ms\tremaining: 2.16s\n",
      "219:\tlearn: 16539.1348785\ttotal: 609ms\tremaining: 2.16s\n",
      "220:\tlearn: 16525.0605395\ttotal: 612ms\tremaining: 2.16s\n",
      "221:\tlearn: 16483.5540228\ttotal: 615ms\tremaining: 2.15s\n",
      "222:\tlearn: 16444.0168331\ttotal: 617ms\tremaining: 2.15s\n",
      "223:\tlearn: 16390.3682839\ttotal: 620ms\tremaining: 2.15s\n",
      "224:\tlearn: 16355.0589916\ttotal: 622ms\tremaining: 2.14s\n",
      "225:\tlearn: 16324.0192015\ttotal: 625ms\tremaining: 2.14s\n",
      "226:\tlearn: 16300.6031846\ttotal: 627ms\tremaining: 2.13s\n",
      "227:\tlearn: 16257.2151330\ttotal: 629ms\tremaining: 2.13s\n",
      "228:\tlearn: 16218.3355480\ttotal: 632ms\tremaining: 2.13s\n",
      "229:\tlearn: 16176.0526860\ttotal: 634ms\tremaining: 2.12s\n",
      "230:\tlearn: 16144.9615112\ttotal: 638ms\tremaining: 2.12s\n",
      "231:\tlearn: 16122.5761859\ttotal: 640ms\tremaining: 2.12s\n",
      "232:\tlearn: 16108.9640883\ttotal: 643ms\tremaining: 2.12s\n",
      "233:\tlearn: 16071.1756730\ttotal: 646ms\tremaining: 2.11s\n",
      "234:\tlearn: 16029.4639217\ttotal: 650ms\tremaining: 2.12s\n",
      "235:\tlearn: 16017.8587756\ttotal: 652ms\tremaining: 2.11s\n",
      "236:\tlearn: 15963.9183795\ttotal: 655ms\tremaining: 2.11s\n",
      "237:\tlearn: 15928.5700587\ttotal: 658ms\tremaining: 2.1s\n",
      "238:\tlearn: 15896.7203299\ttotal: 660ms\tremaining: 2.1s\n",
      "239:\tlearn: 15869.6588709\ttotal: 663ms\tremaining: 2.1s\n",
      "240:\tlearn: 15861.1201270\ttotal: 665ms\tremaining: 2.1s\n",
      "241:\tlearn: 15827.9387189\ttotal: 668ms\tremaining: 2.09s\n",
      "242:\tlearn: 15817.2380195\ttotal: 670ms\tremaining: 2.09s\n",
      "243:\tlearn: 15809.1023936\ttotal: 673ms\tremaining: 2.08s\n",
      "244:\tlearn: 15766.7413667\ttotal: 675ms\tremaining: 2.08s\n",
      "245:\tlearn: 15760.3777770\ttotal: 678ms\tremaining: 2.08s\n",
      "246:\tlearn: 15731.3620598\ttotal: 680ms\tremaining: 2.07s\n",
      "247:\tlearn: 15720.3714733\ttotal: 683ms\tremaining: 2.07s\n",
      "248:\tlearn: 15691.1988963\ttotal: 686ms\tremaining: 2.07s\n",
      "249:\tlearn: 15660.0001034\ttotal: 688ms\tremaining: 2.06s\n",
      "250:\tlearn: 15633.2463486\ttotal: 691ms\tremaining: 2.06s\n",
      "251:\tlearn: 15593.1596752\ttotal: 695ms\tremaining: 2.06s\n",
      "252:\tlearn: 15560.1944488\ttotal: 697ms\tremaining: 2.06s\n",
      "253:\tlearn: 15518.9048293\ttotal: 700ms\tremaining: 2.06s\n",
      "254:\tlearn: 15493.9975187\ttotal: 703ms\tremaining: 2.05s\n",
      "255:\tlearn: 15453.8957685\ttotal: 706ms\tremaining: 2.05s\n",
      "256:\tlearn: 15446.2967099\ttotal: 709ms\tremaining: 2.05s\n",
      "257:\tlearn: 15419.8197884\ttotal: 712ms\tremaining: 2.05s\n",
      "258:\tlearn: 15394.0463007\ttotal: 714ms\tremaining: 2.04s\n",
      "259:\tlearn: 15363.9050915\ttotal: 716ms\tremaining: 2.04s\n",
      "260:\tlearn: 15344.3117534\ttotal: 719ms\tremaining: 2.04s\n",
      "261:\tlearn: 15321.0414966\ttotal: 721ms\tremaining: 2.03s\n",
      "262:\tlearn: 15305.1646644\ttotal: 724ms\tremaining: 2.03s\n",
      "263:\tlearn: 15264.4070460\ttotal: 726ms\tremaining: 2.02s\n",
      "264:\tlearn: 15248.5635665\ttotal: 729ms\tremaining: 2.02s\n",
      "265:\tlearn: 15229.6486132\ttotal: 731ms\tremaining: 2.02s\n",
      "266:\tlearn: 15209.5709128\ttotal: 734ms\tremaining: 2.01s\n",
      "267:\tlearn: 15185.4218802\ttotal: 736ms\tremaining: 2.01s\n",
      "268:\tlearn: 15178.9777606\ttotal: 739ms\tremaining: 2.01s\n",
      "269:\tlearn: 15145.3212286\ttotal: 741ms\tremaining: 2s\n",
      "270:\tlearn: 15103.2991408\ttotal: 744ms\tremaining: 2s\n",
      "271:\tlearn: 15075.1987034\ttotal: 746ms\tremaining: 2s\n",
      "272:\tlearn: 15070.3765744\ttotal: 749ms\tremaining: 2s\n",
      "273:\tlearn: 15045.4340559\ttotal: 752ms\tremaining: 1.99s\n",
      "274:\tlearn: 15016.4735249\ttotal: 754ms\tremaining: 1.99s\n",
      "275:\tlearn: 14985.3401735\ttotal: 757ms\tremaining: 1.99s\n",
      "276:\tlearn: 14954.2497088\ttotal: 759ms\tremaining: 1.98s\n",
      "277:\tlearn: 14916.8125049\ttotal: 762ms\tremaining: 1.98s\n",
      "278:\tlearn: 14894.2986845\ttotal: 765ms\tremaining: 1.98s\n",
      "279:\tlearn: 14865.1889309\ttotal: 767ms\tremaining: 1.97s\n",
      "280:\tlearn: 14843.4275462\ttotal: 770ms\tremaining: 1.97s\n",
      "281:\tlearn: 14814.5647031\ttotal: 772ms\tremaining: 1.97s\n",
      "282:\tlearn: 14783.7397386\ttotal: 775ms\tremaining: 1.96s\n",
      "283:\tlearn: 14773.8054126\ttotal: 777ms\tremaining: 1.96s\n",
      "284:\tlearn: 14755.2604164\ttotal: 780ms\tremaining: 1.96s\n",
      "285:\tlearn: 14731.5007147\ttotal: 783ms\tremaining: 1.95s\n",
      "286:\tlearn: 14702.2844360\ttotal: 786ms\tremaining: 1.95s\n",
      "287:\tlearn: 14680.0085579\ttotal: 788ms\tremaining: 1.95s\n",
      "288:\tlearn: 14662.6708089\ttotal: 791ms\tremaining: 1.95s\n",
      "289:\tlearn: 14633.9053293\ttotal: 793ms\tremaining: 1.94s\n",
      "290:\tlearn: 14602.4852868\ttotal: 796ms\tremaining: 1.94s\n",
      "291:\tlearn: 14589.0763909\ttotal: 799ms\tremaining: 1.94s\n",
      "292:\tlearn: 14556.0454130\ttotal: 802ms\tremaining: 1.93s\n",
      "293:\tlearn: 14539.5328874\ttotal: 804ms\tremaining: 1.93s\n",
      "294:\tlearn: 14521.0890629\ttotal: 807ms\tremaining: 1.93s\n",
      "295:\tlearn: 14482.8755978\ttotal: 810ms\tremaining: 1.93s\n",
      "296:\tlearn: 14456.5695716\ttotal: 813ms\tremaining: 1.93s\n",
      "297:\tlearn: 14437.2695304\ttotal: 817ms\tremaining: 1.92s\n",
      "298:\tlearn: 14413.9462214\ttotal: 819ms\tremaining: 1.92s\n",
      "299:\tlearn: 14374.8804696\ttotal: 822ms\tremaining: 1.92s\n",
      "300:\tlearn: 14346.3947748\ttotal: 825ms\tremaining: 1.91s\n",
      "301:\tlearn: 14322.1452159\ttotal: 827ms\tremaining: 1.91s\n",
      "302:\tlearn: 14292.2775889\ttotal: 830ms\tremaining: 1.91s\n",
      "303:\tlearn: 14259.3932236\ttotal: 833ms\tremaining: 1.91s\n",
      "304:\tlearn: 14244.1286900\ttotal: 835ms\tremaining: 1.9s\n",
      "305:\tlearn: 14218.1074825\ttotal: 838ms\tremaining: 1.9s\n",
      "306:\tlearn: 14187.0506896\ttotal: 840ms\tremaining: 1.9s\n",
      "307:\tlearn: 14151.4448088\ttotal: 844ms\tremaining: 1.9s\n",
      "308:\tlearn: 14129.5202066\ttotal: 846ms\tremaining: 1.89s\n",
      "309:\tlearn: 14106.9236878\ttotal: 849ms\tremaining: 1.89s\n",
      "310:\tlearn: 14084.6292825\ttotal: 852ms\tremaining: 1.89s\n",
      "311:\tlearn: 14063.8744940\ttotal: 854ms\tremaining: 1.88s\n",
      "312:\tlearn: 14055.8206415\ttotal: 857ms\tremaining: 1.88s\n",
      "313:\tlearn: 14051.7702159\ttotal: 859ms\tremaining: 1.88s\n",
      "314:\tlearn: 14016.9140198\ttotal: 862ms\tremaining: 1.87s\n",
      "315:\tlearn: 13987.2325832\ttotal: 865ms\tremaining: 1.87s\n",
      "316:\tlearn: 13959.2452268\ttotal: 867ms\tremaining: 1.87s\n",
      "317:\tlearn: 13931.1361312\ttotal: 870ms\tremaining: 1.87s\n",
      "318:\tlearn: 13907.9519941\ttotal: 873ms\tremaining: 1.86s\n",
      "319:\tlearn: 13889.6519455\ttotal: 875ms\tremaining: 1.86s\n",
      "320:\tlearn: 13851.0312760\ttotal: 878ms\tremaining: 1.86s\n",
      "321:\tlearn: 13824.6825532\ttotal: 881ms\tremaining: 1.85s\n",
      "322:\tlearn: 13789.9123507\ttotal: 884ms\tremaining: 1.85s\n",
      "323:\tlearn: 13778.5894173\ttotal: 888ms\tremaining: 1.85s\n",
      "324:\tlearn: 13759.2123300\ttotal: 891ms\tremaining: 1.85s\n",
      "325:\tlearn: 13726.1023748\ttotal: 895ms\tremaining: 1.85s\n",
      "326:\tlearn: 13702.9577362\ttotal: 910ms\tremaining: 1.87s\n",
      "327:\tlearn: 13679.7502414\ttotal: 915ms\tremaining: 1.87s\n",
      "328:\tlearn: 13663.0146131\ttotal: 918ms\tremaining: 1.87s\n",
      "329:\tlearn: 13641.0427496\ttotal: 921ms\tremaining: 1.87s\n",
      "330:\tlearn: 13609.8157596\ttotal: 924ms\tremaining: 1.87s\n",
      "331:\tlearn: 13592.0317002\ttotal: 926ms\tremaining: 1.86s\n",
      "332:\tlearn: 13561.8692560\ttotal: 929ms\tremaining: 1.86s\n",
      "333:\tlearn: 13542.2946903\ttotal: 932ms\tremaining: 1.86s\n",
      "334:\tlearn: 13518.9519038\ttotal: 935ms\tremaining: 1.85s\n",
      "335:\tlearn: 13504.0011671\ttotal: 937ms\tremaining: 1.85s\n",
      "336:\tlearn: 13485.7079843\ttotal: 940ms\tremaining: 1.85s\n",
      "337:\tlearn: 13468.7039299\ttotal: 943ms\tremaining: 1.84s\n",
      "338:\tlearn: 13450.4677415\ttotal: 945ms\tremaining: 1.84s\n",
      "339:\tlearn: 13411.6292412\ttotal: 949ms\tremaining: 1.84s\n",
      "340:\tlearn: 13389.4486955\ttotal: 952ms\tremaining: 1.84s\n",
      "341:\tlearn: 13386.0252759\ttotal: 954ms\tremaining: 1.83s\n",
      "342:\tlearn: 13375.9319418\ttotal: 957ms\tremaining: 1.83s\n",
      "343:\tlearn: 13355.7925985\ttotal: 959ms\tremaining: 1.83s\n",
      "344:\tlearn: 13352.3614255\ttotal: 962ms\tremaining: 1.82s\n",
      "345:\tlearn: 13337.6102063\ttotal: 964ms\tremaining: 1.82s\n",
      "346:\tlearn: 13311.0866041\ttotal: 967ms\tremaining: 1.82s\n",
      "347:\tlearn: 13278.0304601\ttotal: 969ms\tremaining: 1.81s\n",
      "348:\tlearn: 13256.7322875\ttotal: 971ms\tremaining: 1.81s\n",
      "349:\tlearn: 13230.7568278\ttotal: 974ms\tremaining: 1.81s\n",
      "350:\tlearn: 13227.4380358\ttotal: 976ms\tremaining: 1.8s\n",
      "351:\tlearn: 13210.4931419\ttotal: 979ms\tremaining: 1.8s\n",
      "352:\tlearn: 13192.0715000\ttotal: 982ms\tremaining: 1.8s\n",
      "353:\tlearn: 13187.1934703\ttotal: 984ms\tremaining: 1.8s\n",
      "354:\tlearn: 13155.3876379\ttotal: 987ms\tremaining: 1.79s\n",
      "355:\tlearn: 13134.3476776\ttotal: 989ms\tremaining: 1.79s\n",
      "356:\tlearn: 13107.5327586\ttotal: 992ms\tremaining: 1.79s\n",
      "357:\tlearn: 13081.7913810\ttotal: 994ms\tremaining: 1.78s\n",
      "358:\tlearn: 13062.0530685\ttotal: 997ms\tremaining: 1.78s\n",
      "359:\tlearn: 13042.9187270\ttotal: 999ms\tremaining: 1.77s\n",
      "360:\tlearn: 13038.6114899\ttotal: 1s\tremaining: 1.77s\n",
      "361:\tlearn: 13025.1912746\ttotal: 1s\tremaining: 1.77s\n",
      "362:\tlearn: 13007.8544368\ttotal: 1.01s\tremaining: 1.76s\n",
      "363:\tlearn: 12980.5495509\ttotal: 1.01s\tremaining: 1.76s\n",
      "364:\tlearn: 12951.5047138\ttotal: 1.01s\tremaining: 1.76s\n",
      "365:\tlearn: 12916.2426398\ttotal: 1.01s\tremaining: 1.75s\n",
      "366:\tlearn: 12886.6655804\ttotal: 1.02s\tremaining: 1.75s\n",
      "367:\tlearn: 12855.7894864\ttotal: 1.02s\tremaining: 1.75s\n",
      "368:\tlearn: 12831.8598180\ttotal: 1.02s\tremaining: 1.75s\n"
     ]
    },
    {
     "name": "stdout",
     "output_type": "stream",
     "text": [
      "369:\tlearn: 12818.0145149\ttotal: 1.02s\tremaining: 1.74s\n",
      "370:\tlearn: 12783.3752860\ttotal: 1.03s\tremaining: 1.74s\n",
      "371:\tlearn: 12767.1005705\ttotal: 1.03s\tremaining: 1.74s\n",
      "372:\tlearn: 12753.1852854\ttotal: 1.03s\tremaining: 1.73s\n",
      "373:\tlearn: 12728.1893964\ttotal: 1.03s\tremaining: 1.73s\n",
      "374:\tlearn: 12708.9210237\ttotal: 1.04s\tremaining: 1.73s\n",
      "375:\tlearn: 12699.9727815\ttotal: 1.04s\tremaining: 1.72s\n",
      "376:\tlearn: 12670.0258270\ttotal: 1.04s\tremaining: 1.72s\n",
      "377:\tlearn: 12641.2607423\ttotal: 1.04s\tremaining: 1.72s\n",
      "378:\tlearn: 12625.0996333\ttotal: 1.05s\tremaining: 1.72s\n",
      "379:\tlearn: 12615.2042709\ttotal: 1.05s\tremaining: 1.71s\n",
      "380:\tlearn: 12607.8582116\ttotal: 1.05s\tremaining: 1.71s\n",
      "381:\tlearn: 12588.2672653\ttotal: 1.05s\tremaining: 1.71s\n",
      "382:\tlearn: 12558.3794411\ttotal: 1.06s\tremaining: 1.7s\n",
      "383:\tlearn: 12539.6066620\ttotal: 1.06s\tremaining: 1.7s\n",
      "384:\tlearn: 12512.4796057\ttotal: 1.06s\tremaining: 1.7s\n",
      "385:\tlearn: 12495.6802582\ttotal: 1.06s\tremaining: 1.69s\n",
      "386:\tlearn: 12471.7721203\ttotal: 1.07s\tremaining: 1.69s\n",
      "387:\tlearn: 12457.8910959\ttotal: 1.07s\tremaining: 1.69s\n",
      "388:\tlearn: 12437.1235247\ttotal: 1.07s\tremaining: 1.68s\n",
      "389:\tlearn: 12411.2391656\ttotal: 1.07s\tremaining: 1.68s\n",
      "390:\tlearn: 12392.4389430\ttotal: 1.08s\tremaining: 1.68s\n",
      "391:\tlearn: 12370.2956375\ttotal: 1.08s\tremaining: 1.68s\n",
      "392:\tlearn: 12350.2599681\ttotal: 1.08s\tremaining: 1.67s\n",
      "393:\tlearn: 12329.8251245\ttotal: 1.09s\tremaining: 1.67s\n",
      "394:\tlearn: 12308.0178162\ttotal: 1.09s\tremaining: 1.67s\n",
      "395:\tlearn: 12289.8671145\ttotal: 1.09s\tremaining: 1.67s\n",
      "396:\tlearn: 12267.9520181\ttotal: 1.09s\tremaining: 1.66s\n",
      "397:\tlearn: 12251.9078890\ttotal: 1.1s\tremaining: 1.66s\n",
      "398:\tlearn: 12235.2567787\ttotal: 1.1s\tremaining: 1.66s\n",
      "399:\tlearn: 12214.4730496\ttotal: 1.1s\tremaining: 1.65s\n",
      "400:\tlearn: 12191.8463832\ttotal: 1.1s\tremaining: 1.65s\n",
      "401:\tlearn: 12180.4624292\ttotal: 1.11s\tremaining: 1.65s\n",
      "402:\tlearn: 12175.7167442\ttotal: 1.11s\tremaining: 1.65s\n",
      "403:\tlearn: 12158.5028601\ttotal: 1.11s\tremaining: 1.64s\n",
      "404:\tlearn: 12155.4908567\ttotal: 1.11s\tremaining: 1.64s\n",
      "405:\tlearn: 12128.6974652\ttotal: 1.12s\tremaining: 1.64s\n",
      "406:\tlearn: 12108.8053236\ttotal: 1.12s\tremaining: 1.63s\n",
      "407:\tlearn: 12085.9806448\ttotal: 1.12s\tremaining: 1.63s\n",
      "408:\tlearn: 12066.8128969\ttotal: 1.13s\tremaining: 1.63s\n",
      "409:\tlearn: 12045.1161466\ttotal: 1.13s\tremaining: 1.62s\n",
      "410:\tlearn: 12029.6828860\ttotal: 1.13s\tremaining: 1.62s\n",
      "411:\tlearn: 12006.6475987\ttotal: 1.13s\tremaining: 1.62s\n",
      "412:\tlearn: 11990.5752590\ttotal: 1.14s\tremaining: 1.61s\n",
      "413:\tlearn: 11973.5770402\ttotal: 1.14s\tremaining: 1.61s\n",
      "414:\tlearn: 11959.2572760\ttotal: 1.14s\tremaining: 1.61s\n",
      "415:\tlearn: 11921.7501522\ttotal: 1.14s\tremaining: 1.61s\n",
      "416:\tlearn: 11910.9239286\ttotal: 1.15s\tremaining: 1.6s\n",
      "417:\tlearn: 11886.4780990\ttotal: 1.15s\tremaining: 1.6s\n",
      "418:\tlearn: 11853.6573844\ttotal: 1.15s\tremaining: 1.6s\n",
      "419:\tlearn: 11837.6238813\ttotal: 1.15s\tremaining: 1.59s\n",
      "420:\tlearn: 11822.2636110\ttotal: 1.16s\tremaining: 1.59s\n",
      "421:\tlearn: 11806.3756754\ttotal: 1.16s\tremaining: 1.59s\n",
      "422:\tlearn: 11788.4557822\ttotal: 1.16s\tremaining: 1.59s\n",
      "423:\tlearn: 11773.2979819\ttotal: 1.17s\tremaining: 1.58s\n",
      "424:\tlearn: 11760.8001198\ttotal: 1.17s\tremaining: 1.58s\n",
      "425:\tlearn: 11732.0839202\ttotal: 1.17s\tremaining: 1.58s\n",
      "426:\tlearn: 11715.1696144\ttotal: 1.17s\tremaining: 1.57s\n",
      "427:\tlearn: 11697.3049961\ttotal: 1.18s\tremaining: 1.57s\n",
      "428:\tlearn: 11676.5463926\ttotal: 1.18s\tremaining: 1.57s\n",
      "429:\tlearn: 11665.0024765\ttotal: 1.18s\tremaining: 1.57s\n",
      "430:\tlearn: 11662.2311415\ttotal: 1.18s\tremaining: 1.56s\n",
      "431:\tlearn: 11646.6804197\ttotal: 1.19s\tremaining: 1.56s\n",
      "432:\tlearn: 11629.1775314\ttotal: 1.19s\tremaining: 1.56s\n",
      "433:\tlearn: 11610.5935079\ttotal: 1.19s\tremaining: 1.55s\n",
      "434:\tlearn: 11592.4679276\ttotal: 1.2s\tremaining: 1.55s\n",
      "435:\tlearn: 11582.2786872\ttotal: 1.2s\tremaining: 1.55s\n",
      "436:\tlearn: 11567.2613995\ttotal: 1.2s\tremaining: 1.55s\n",
      "437:\tlearn: 11552.0424092\ttotal: 1.2s\tremaining: 1.54s\n",
      "438:\tlearn: 11536.5643372\ttotal: 1.21s\tremaining: 1.54s\n",
      "439:\tlearn: 11523.9580151\ttotal: 1.21s\tremaining: 1.54s\n",
      "440:\tlearn: 11509.2026041\ttotal: 1.21s\tremaining: 1.53s\n",
      "441:\tlearn: 11492.1482644\ttotal: 1.21s\tremaining: 1.53s\n",
      "442:\tlearn: 11486.5492004\ttotal: 1.22s\tremaining: 1.53s\n",
      "443:\tlearn: 11483.9405994\ttotal: 1.22s\tremaining: 1.53s\n",
      "444:\tlearn: 11469.8018974\ttotal: 1.22s\tremaining: 1.52s\n",
      "445:\tlearn: 11451.1662790\ttotal: 1.22s\tremaining: 1.52s\n",
      "446:\tlearn: 11429.4410335\ttotal: 1.23s\tremaining: 1.52s\n",
      "447:\tlearn: 11409.4569494\ttotal: 1.23s\tremaining: 1.51s\n",
      "448:\tlearn: 11404.0950125\ttotal: 1.23s\tremaining: 1.51s\n",
      "449:\tlearn: 11382.1077652\ttotal: 1.23s\tremaining: 1.51s\n",
      "450:\tlearn: 11362.9547606\ttotal: 1.24s\tremaining: 1.51s\n",
      "451:\tlearn: 11360.4628870\ttotal: 1.24s\tremaining: 1.5s\n",
      "452:\tlearn: 11354.6975257\ttotal: 1.24s\tremaining: 1.5s\n",
      "453:\tlearn: 11337.6591044\ttotal: 1.25s\tremaining: 1.5s\n",
      "454:\tlearn: 11314.5627248\ttotal: 1.25s\tremaining: 1.49s\n",
      "455:\tlearn: 11311.3646785\ttotal: 1.25s\tremaining: 1.49s\n",
      "456:\tlearn: 11293.0309029\ttotal: 1.25s\tremaining: 1.49s\n",
      "457:\tlearn: 11276.4648138\ttotal: 1.26s\tremaining: 1.49s\n",
      "458:\tlearn: 11259.2172069\ttotal: 1.26s\tremaining: 1.49s\n",
      "459:\tlearn: 11245.0610756\ttotal: 1.26s\tremaining: 1.48s\n",
      "460:\tlearn: 11243.1844191\ttotal: 1.26s\tremaining: 1.48s\n",
      "461:\tlearn: 11226.7965271\ttotal: 1.27s\tremaining: 1.48s\n",
      "462:\tlearn: 11210.0569510\ttotal: 1.27s\tremaining: 1.47s\n",
      "463:\tlearn: 11208.4029579\ttotal: 1.27s\tremaining: 1.47s\n",
      "464:\tlearn: 11198.8966540\ttotal: 1.28s\tremaining: 1.47s\n",
      "465:\tlearn: 11182.2708285\ttotal: 1.28s\tremaining: 1.47s\n",
      "466:\tlearn: 11164.6016500\ttotal: 1.28s\tremaining: 1.47s\n",
      "467:\tlearn: 11147.4395319\ttotal: 1.29s\tremaining: 1.46s\n",
      "468:\tlearn: 11134.5040678\ttotal: 1.29s\tremaining: 1.46s\n",
      "469:\tlearn: 11122.0435311\ttotal: 1.29s\tremaining: 1.46s\n",
      "470:\tlearn: 11107.3755068\ttotal: 1.29s\tremaining: 1.45s\n",
      "471:\tlearn: 11094.5486897\ttotal: 1.3s\tremaining: 1.45s\n",
      "472:\tlearn: 11075.9467451\ttotal: 1.3s\tremaining: 1.45s\n",
      "473:\tlearn: 11062.3207915\ttotal: 1.3s\tremaining: 1.45s\n",
      "474:\tlearn: 11044.7334101\ttotal: 1.3s\tremaining: 1.44s\n",
      "475:\tlearn: 11024.0213107\ttotal: 1.31s\tremaining: 1.44s\n",
      "476:\tlearn: 11004.7411034\ttotal: 1.31s\tremaining: 1.44s\n",
      "477:\tlearn: 11002.6310542\ttotal: 1.31s\tremaining: 1.43s\n",
      "478:\tlearn: 10981.7272290\ttotal: 1.32s\tremaining: 1.43s\n",
      "479:\tlearn: 10966.0381581\ttotal: 1.32s\tremaining: 1.43s\n",
      "480:\tlearn: 10954.5013342\ttotal: 1.32s\tremaining: 1.43s\n",
      "481:\tlearn: 10946.2904750\ttotal: 1.32s\tremaining: 1.42s\n",
      "482:\tlearn: 10931.1127101\ttotal: 1.33s\tremaining: 1.42s\n",
      "483:\tlearn: 10923.8082346\ttotal: 1.33s\tremaining: 1.42s\n",
      "484:\tlearn: 10901.3046330\ttotal: 1.33s\tremaining: 1.41s\n",
      "485:\tlearn: 10888.8580268\ttotal: 1.33s\tremaining: 1.41s\n",
      "486:\tlearn: 10873.4866747\ttotal: 1.34s\tremaining: 1.41s\n",
      "487:\tlearn: 10863.1272944\ttotal: 1.34s\tremaining: 1.4s\n",
      "488:\tlearn: 10844.5055548\ttotal: 1.34s\tremaining: 1.4s\n",
      "489:\tlearn: 10826.2318090\ttotal: 1.34s\tremaining: 1.4s\n",
      "490:\tlearn: 10812.4477443\ttotal: 1.35s\tremaining: 1.4s\n",
      "491:\tlearn: 10798.7781251\ttotal: 1.35s\tremaining: 1.39s\n",
      "492:\tlearn: 10786.2174029\ttotal: 1.35s\tremaining: 1.39s\n",
      "493:\tlearn: 10784.2670297\ttotal: 1.35s\tremaining: 1.39s\n",
      "494:\tlearn: 10773.8169438\ttotal: 1.36s\tremaining: 1.38s\n",
      "495:\tlearn: 10758.0675686\ttotal: 1.36s\tremaining: 1.38s\n",
      "496:\tlearn: 10745.5643713\ttotal: 1.36s\tremaining: 1.38s\n",
      "497:\tlearn: 10717.3459694\ttotal: 1.36s\tremaining: 1.38s\n",
      "498:\tlearn: 10716.0198712\ttotal: 1.37s\tremaining: 1.37s\n",
      "499:\tlearn: 10714.4672246\ttotal: 1.37s\tremaining: 1.37s\n",
      "500:\tlearn: 10703.2444936\ttotal: 1.37s\tremaining: 1.37s\n",
      "501:\tlearn: 10690.8295390\ttotal: 1.38s\tremaining: 1.36s\n",
      "502:\tlearn: 10666.7562825\ttotal: 1.38s\tremaining: 1.36s\n",
      "503:\tlearn: 10648.3296694\ttotal: 1.38s\tremaining: 1.36s\n",
      "504:\tlearn: 10646.4771440\ttotal: 1.38s\tremaining: 1.36s\n",
      "505:\tlearn: 10634.0633895\ttotal: 1.39s\tremaining: 1.35s\n",
      "506:\tlearn: 10623.4048734\ttotal: 1.39s\tremaining: 1.35s\n",
      "507:\tlearn: 10611.7405725\ttotal: 1.39s\tremaining: 1.35s\n",
      "508:\tlearn: 10597.9830616\ttotal: 1.39s\tremaining: 1.34s\n",
      "509:\tlearn: 10576.3224428\ttotal: 1.4s\tremaining: 1.34s\n",
      "510:\tlearn: 10563.6349484\ttotal: 1.4s\tremaining: 1.34s\n",
      "511:\tlearn: 10556.1484976\ttotal: 1.4s\tremaining: 1.33s\n",
      "512:\tlearn: 10554.9621093\ttotal: 1.4s\tremaining: 1.33s\n",
      "513:\tlearn: 10541.3506611\ttotal: 1.41s\tremaining: 1.33s\n",
      "514:\tlearn: 10539.6187478\ttotal: 1.41s\tremaining: 1.33s\n",
      "515:\tlearn: 10533.2420123\ttotal: 1.41s\tremaining: 1.32s\n",
      "516:\tlearn: 10521.6383054\ttotal: 1.41s\tremaining: 1.32s\n",
      "517:\tlearn: 10505.0864974\ttotal: 1.42s\tremaining: 1.32s\n",
      "518:\tlearn: 10494.0722059\ttotal: 1.42s\tremaining: 1.31s\n",
      "519:\tlearn: 10485.3024943\ttotal: 1.42s\tremaining: 1.31s\n",
      "520:\tlearn: 10476.4004598\ttotal: 1.42s\tremaining: 1.31s\n",
      "521:\tlearn: 10465.5087010\ttotal: 1.43s\tremaining: 1.31s\n",
      "522:\tlearn: 10446.6352066\ttotal: 1.43s\tremaining: 1.3s\n",
      "523:\tlearn: 10437.9090413\ttotal: 1.43s\tremaining: 1.3s\n",
      "524:\tlearn: 10420.3737667\ttotal: 1.44s\tremaining: 1.3s\n",
      "525:\tlearn: 10407.5824705\ttotal: 1.44s\tremaining: 1.29s\n",
      "526:\tlearn: 10396.1407749\ttotal: 1.44s\tremaining: 1.29s\n",
      "527:\tlearn: 10373.8389880\ttotal: 1.44s\tremaining: 1.29s\n",
      "528:\tlearn: 10354.7779445\ttotal: 1.45s\tremaining: 1.29s\n",
      "529:\tlearn: 10344.0999994\ttotal: 1.45s\tremaining: 1.28s\n",
      "530:\tlearn: 10328.6877062\ttotal: 1.45s\tremaining: 1.28s\n",
      "531:\tlearn: 10320.6493767\ttotal: 1.45s\tremaining: 1.28s\n",
      "532:\tlearn: 10310.3118152\ttotal: 1.46s\tremaining: 1.27s\n",
      "533:\tlearn: 10293.0496139\ttotal: 1.46s\tremaining: 1.27s\n",
      "534:\tlearn: 10291.9412414\ttotal: 1.46s\tremaining: 1.27s\n",
      "535:\tlearn: 10288.9648312\ttotal: 1.46s\tremaining: 1.27s\n",
      "536:\tlearn: 10287.2278127\ttotal: 1.47s\tremaining: 1.26s\n",
      "537:\tlearn: 10285.6813457\ttotal: 1.47s\tremaining: 1.26s\n",
      "538:\tlearn: 10272.1910614\ttotal: 1.47s\tremaining: 1.26s\n",
      "539:\tlearn: 10260.8018072\ttotal: 1.47s\tremaining: 1.25s\n",
      "540:\tlearn: 10256.2059852\ttotal: 1.48s\tremaining: 1.25s\n",
      "541:\tlearn: 10237.3889388\ttotal: 1.48s\tremaining: 1.25s\n",
      "542:\tlearn: 10214.0496910\ttotal: 1.48s\tremaining: 1.25s\n",
      "543:\tlearn: 10200.6985421\ttotal: 1.48s\tremaining: 1.24s\n",
      "544:\tlearn: 10182.2069398\ttotal: 1.49s\tremaining: 1.24s\n",
      "545:\tlearn: 10166.3083691\ttotal: 1.49s\tremaining: 1.24s\n",
      "546:\tlearn: 10152.6064153\ttotal: 1.49s\tremaining: 1.23s\n",
      "547:\tlearn: 10142.2839824\ttotal: 1.49s\tremaining: 1.23s\n",
      "548:\tlearn: 10126.0955510\ttotal: 1.5s\tremaining: 1.23s\n",
      "549:\tlearn: 10106.2206277\ttotal: 1.5s\tremaining: 1.23s\n",
      "550:\tlearn: 10099.6956027\ttotal: 1.5s\tremaining: 1.22s\n",
      "551:\tlearn: 10089.8908308\ttotal: 1.5s\tremaining: 1.22s\n",
      "552:\tlearn: 10069.8134780\ttotal: 1.5s\tremaining: 1.22s\n",
      "553:\tlearn: 10063.4431475\ttotal: 1.51s\tremaining: 1.21s\n",
      "554:\tlearn: 10061.9590674\ttotal: 1.51s\tremaining: 1.21s\n",
      "555:\tlearn: 10049.2692405\ttotal: 1.51s\tremaining: 1.21s\n",
      "556:\tlearn: 10029.8445651\ttotal: 1.51s\tremaining: 1.2s\n",
      "557:\tlearn: 10019.8810994\ttotal: 1.52s\tremaining: 1.2s\n",
      "558:\tlearn: 10008.3333214\ttotal: 1.52s\tremaining: 1.2s\n",
      "559:\tlearn: 9996.3280026\ttotal: 1.52s\tremaining: 1.2s\n",
      "560:\tlearn: 9975.3777044\ttotal: 1.52s\tremaining: 1.19s\n",
      "561:\tlearn: 9970.3558123\ttotal: 1.53s\tremaining: 1.19s\n",
      "562:\tlearn: 9955.2958176\ttotal: 1.53s\tremaining: 1.19s\n",
      "563:\tlearn: 9933.5269929\ttotal: 1.53s\tremaining: 1.18s\n",
      "564:\tlearn: 9916.5740067\ttotal: 1.53s\tremaining: 1.18s\n"
     ]
    },
    {
     "name": "stdout",
     "output_type": "stream",
     "text": [
      "565:\tlearn: 9912.3522781\ttotal: 1.54s\tremaining: 1.18s\n",
      "566:\tlearn: 9902.9176762\ttotal: 1.54s\tremaining: 1.18s\n",
      "567:\tlearn: 9888.6731678\ttotal: 1.54s\tremaining: 1.17s\n",
      "568:\tlearn: 9883.0258046\ttotal: 1.54s\tremaining: 1.17s\n",
      "569:\tlearn: 9866.6382117\ttotal: 1.55s\tremaining: 1.17s\n",
      "570:\tlearn: 9854.1990899\ttotal: 1.55s\tremaining: 1.16s\n",
      "571:\tlearn: 9845.2336371\ttotal: 1.55s\tremaining: 1.16s\n",
      "572:\tlearn: 9835.4530668\ttotal: 1.55s\tremaining: 1.16s\n",
      "573:\tlearn: 9822.0343867\ttotal: 1.56s\tremaining: 1.16s\n",
      "574:\tlearn: 9812.5000715\ttotal: 1.56s\tremaining: 1.15s\n",
      "575:\tlearn: 9802.2695931\ttotal: 1.56s\tremaining: 1.15s\n",
      "576:\tlearn: 9784.3035861\ttotal: 1.57s\tremaining: 1.15s\n",
      "577:\tlearn: 9779.1888559\ttotal: 1.57s\tremaining: 1.15s\n",
      "578:\tlearn: 9777.4318244\ttotal: 1.57s\tremaining: 1.14s\n",
      "579:\tlearn: 9772.0661427\ttotal: 1.58s\tremaining: 1.14s\n",
      "580:\tlearn: 9755.6257439\ttotal: 1.58s\tremaining: 1.14s\n",
      "581:\tlearn: 9745.6217068\ttotal: 1.58s\tremaining: 1.14s\n",
      "582:\tlearn: 9728.6348131\ttotal: 1.58s\tremaining: 1.13s\n",
      "583:\tlearn: 9713.2005166\ttotal: 1.59s\tremaining: 1.13s\n",
      "584:\tlearn: 9698.8925690\ttotal: 1.59s\tremaining: 1.13s\n",
      "585:\tlearn: 9674.7421615\ttotal: 1.59s\tremaining: 1.13s\n",
      "586:\tlearn: 9658.9520538\ttotal: 1.59s\tremaining: 1.12s\n",
      "587:\tlearn: 9657.5889170\ttotal: 1.6s\tremaining: 1.12s\n",
      "588:\tlearn: 9648.4030633\ttotal: 1.6s\tremaining: 1.12s\n",
      "589:\tlearn: 9640.9473035\ttotal: 1.6s\tremaining: 1.11s\n",
      "590:\tlearn: 9622.5759886\ttotal: 1.6s\tremaining: 1.11s\n",
      "591:\tlearn: 9614.9028415\ttotal: 1.61s\tremaining: 1.11s\n",
      "592:\tlearn: 9609.8331896\ttotal: 1.61s\tremaining: 1.1s\n",
      "593:\tlearn: 9595.6729045\ttotal: 1.61s\tremaining: 1.1s\n",
      "594:\tlearn: 9588.5992348\ttotal: 1.61s\tremaining: 1.1s\n",
      "595:\tlearn: 9583.1284602\ttotal: 1.62s\tremaining: 1.1s\n",
      "596:\tlearn: 9571.6436358\ttotal: 1.62s\tremaining: 1.09s\n",
      "597:\tlearn: 9567.0303624\ttotal: 1.62s\tremaining: 1.09s\n",
      "598:\tlearn: 9561.7230174\ttotal: 1.62s\tremaining: 1.09s\n",
      "599:\tlearn: 9546.8383143\ttotal: 1.63s\tremaining: 1.08s\n",
      "600:\tlearn: 9537.6256583\ttotal: 1.63s\tremaining: 1.08s\n",
      "601:\tlearn: 9532.9456463\ttotal: 1.63s\tremaining: 1.08s\n",
      "602:\tlearn: 9525.1968202\ttotal: 1.63s\tremaining: 1.08s\n",
      "603:\tlearn: 9508.1765118\ttotal: 1.64s\tremaining: 1.07s\n",
      "604:\tlearn: 9502.2775283\ttotal: 1.64s\tremaining: 1.07s\n",
      "605:\tlearn: 9491.9158752\ttotal: 1.64s\tremaining: 1.07s\n",
      "606:\tlearn: 9487.3251725\ttotal: 1.64s\tremaining: 1.06s\n",
      "607:\tlearn: 9471.8669005\ttotal: 1.65s\tremaining: 1.06s\n",
      "608:\tlearn: 9456.6877533\ttotal: 1.65s\tremaining: 1.06s\n",
      "609:\tlearn: 9455.4050183\ttotal: 1.65s\tremaining: 1.05s\n",
      "610:\tlearn: 9441.4686257\ttotal: 1.65s\tremaining: 1.05s\n",
      "611:\tlearn: 9435.7564195\ttotal: 1.66s\tremaining: 1.05s\n",
      "612:\tlearn: 9428.8701390\ttotal: 1.66s\tremaining: 1.05s\n",
      "613:\tlearn: 9418.1503938\ttotal: 1.66s\tremaining: 1.04s\n",
      "614:\tlearn: 9400.7009739\ttotal: 1.66s\tremaining: 1.04s\n",
      "615:\tlearn: 9384.5723337\ttotal: 1.67s\tremaining: 1.04s\n",
      "616:\tlearn: 9369.6310408\ttotal: 1.67s\tremaining: 1.03s\n",
      "617:\tlearn: 9352.8874364\ttotal: 1.67s\tremaining: 1.03s\n",
      "618:\tlearn: 9335.5118682\ttotal: 1.67s\tremaining: 1.03s\n",
      "619:\tlearn: 9329.7176341\ttotal: 1.68s\tremaining: 1.03s\n",
      "620:\tlearn: 9313.9968912\ttotal: 1.68s\tremaining: 1.02s\n",
      "621:\tlearn: 9304.2703703\ttotal: 1.68s\tremaining: 1.02s\n",
      "622:\tlearn: 9294.3585753\ttotal: 1.68s\tremaining: 1.02s\n",
      "623:\tlearn: 9280.7452180\ttotal: 1.69s\tremaining: 1.01s\n",
      "624:\tlearn: 9272.2221267\ttotal: 1.69s\tremaining: 1.01s\n",
      "625:\tlearn: 9260.7056235\ttotal: 1.69s\tremaining: 1.01s\n",
      "626:\tlearn: 9253.0585728\ttotal: 1.69s\tremaining: 1.01s\n",
      "627:\tlearn: 9232.2047125\ttotal: 1.69s\tremaining: 1s\n",
      "628:\tlearn: 9216.6237836\ttotal: 1.7s\tremaining: 1s\n",
      "629:\tlearn: 9208.5710370\ttotal: 1.7s\tremaining: 998ms\n",
      "630:\tlearn: 9193.3660008\ttotal: 1.7s\tremaining: 995ms\n",
      "631:\tlearn: 9178.6092386\ttotal: 1.7s\tremaining: 992ms\n",
      "632:\tlearn: 9165.8439588\ttotal: 1.71s\tremaining: 990ms\n",
      "633:\tlearn: 9160.4927318\ttotal: 1.71s\tremaining: 987ms\n",
      "634:\tlearn: 9148.9990179\ttotal: 1.71s\tremaining: 985ms\n",
      "635:\tlearn: 9138.8192324\ttotal: 1.72s\tremaining: 982ms\n",
      "636:\tlearn: 9117.4238890\ttotal: 1.72s\tremaining: 979ms\n",
      "637:\tlearn: 9108.3681591\ttotal: 1.72s\tremaining: 977ms\n",
      "638:\tlearn: 9097.2708849\ttotal: 1.72s\tremaining: 974ms\n",
      "639:\tlearn: 9089.7064357\ttotal: 1.73s\tremaining: 971ms\n",
      "640:\tlearn: 9079.2822059\ttotal: 1.73s\tremaining: 968ms\n",
      "641:\tlearn: 9078.2769087\ttotal: 1.73s\tremaining: 965ms\n",
      "642:\tlearn: 9066.4250302\ttotal: 1.73s\tremaining: 962ms\n",
      "643:\tlearn: 9056.6276712\ttotal: 1.74s\tremaining: 959ms\n",
      "644:\tlearn: 9045.9510561\ttotal: 1.74s\tremaining: 957ms\n",
      "645:\tlearn: 9027.3083983\ttotal: 1.74s\tremaining: 954ms\n",
      "646:\tlearn: 9009.9565605\ttotal: 1.74s\tremaining: 951ms\n",
      "647:\tlearn: 8999.9498721\ttotal: 1.75s\tremaining: 948ms\n",
      "648:\tlearn: 8986.4665356\ttotal: 1.75s\tremaining: 946ms\n",
      "649:\tlearn: 8972.6001631\ttotal: 1.75s\tremaining: 943ms\n",
      "650:\tlearn: 8963.7063907\ttotal: 1.75s\tremaining: 940ms\n",
      "651:\tlearn: 8962.5894700\ttotal: 1.75s\tremaining: 937ms\n",
      "652:\tlearn: 8952.3082053\ttotal: 1.76s\tremaining: 934ms\n",
      "653:\tlearn: 8951.1939839\ttotal: 1.76s\tremaining: 931ms\n",
      "654:\tlearn: 8941.7441742\ttotal: 1.76s\tremaining: 929ms\n",
      "655:\tlearn: 8936.1986128\ttotal: 1.76s\tremaining: 926ms\n",
      "656:\tlearn: 8935.1358086\ttotal: 1.77s\tremaining: 923ms\n",
      "657:\tlearn: 8925.4813981\ttotal: 1.77s\tremaining: 920ms\n",
      "658:\tlearn: 8907.2389144\ttotal: 1.77s\tremaining: 917ms\n",
      "659:\tlearn: 8899.1088963\ttotal: 1.77s\tremaining: 915ms\n",
      "660:\tlearn: 8891.9154960\ttotal: 1.78s\tremaining: 912ms\n",
      "661:\tlearn: 8885.8075198\ttotal: 1.78s\tremaining: 909ms\n",
      "662:\tlearn: 8872.0177364\ttotal: 1.78s\tremaining: 906ms\n",
      "663:\tlearn: 8870.9784305\ttotal: 1.78s\tremaining: 903ms\n",
      "664:\tlearn: 8864.6639319\ttotal: 1.79s\tremaining: 900ms\n",
      "665:\tlearn: 8855.5306797\ttotal: 1.79s\tremaining: 898ms\n",
      "666:\tlearn: 8843.4360751\ttotal: 1.79s\tremaining: 895ms\n",
      "667:\tlearn: 8834.7227585\ttotal: 1.79s\tremaining: 892ms\n",
      "668:\tlearn: 8826.9305543\ttotal: 1.8s\tremaining: 889ms\n",
      "669:\tlearn: 8820.5690912\ttotal: 1.8s\tremaining: 886ms\n",
      "670:\tlearn: 8804.3927131\ttotal: 1.8s\tremaining: 884ms\n",
      "671:\tlearn: 8794.6501738\ttotal: 1.8s\tremaining: 881ms\n",
      "672:\tlearn: 8785.2496243\ttotal: 1.81s\tremaining: 878ms\n",
      "673:\tlearn: 8782.2120350\ttotal: 1.81s\tremaining: 875ms\n",
      "674:\tlearn: 8766.2716820\ttotal: 1.81s\tremaining: 872ms\n",
      "675:\tlearn: 8756.0472293\ttotal: 1.81s\tremaining: 870ms\n",
      "676:\tlearn: 8745.6157737\ttotal: 1.82s\tremaining: 867ms\n",
      "677:\tlearn: 8737.1347612\ttotal: 1.82s\tremaining: 864ms\n",
      "678:\tlearn: 8735.5484502\ttotal: 1.82s\tremaining: 861ms\n",
      "679:\tlearn: 8721.8800832\ttotal: 1.82s\tremaining: 858ms\n",
      "680:\tlearn: 8707.7547420\ttotal: 1.83s\tremaining: 856ms\n",
      "681:\tlearn: 8697.3839067\ttotal: 1.83s\tremaining: 853ms\n",
      "682:\tlearn: 8696.5937532\ttotal: 1.83s\tremaining: 850ms\n",
      "683:\tlearn: 8681.2747853\ttotal: 1.83s\tremaining: 847ms\n",
      "684:\tlearn: 8678.3024954\ttotal: 1.84s\tremaining: 844ms\n",
      "685:\tlearn: 8669.4463140\ttotal: 1.84s\tremaining: 842ms\n",
      "686:\tlearn: 8659.6232325\ttotal: 1.84s\tremaining: 839ms\n",
      "687:\tlearn: 8655.3270920\ttotal: 1.84s\tremaining: 836ms\n",
      "688:\tlearn: 8642.5153484\ttotal: 1.84s\tremaining: 833ms\n",
      "689:\tlearn: 8631.3753174\ttotal: 1.85s\tremaining: 830ms\n",
      "690:\tlearn: 8616.6244925\ttotal: 1.85s\tremaining: 828ms\n",
      "691:\tlearn: 8609.5220391\ttotal: 1.85s\tremaining: 825ms\n",
      "692:\tlearn: 8595.9059644\ttotal: 1.85s\tremaining: 822ms\n",
      "693:\tlearn: 8587.7073555\ttotal: 1.86s\tremaining: 819ms\n",
      "694:\tlearn: 8579.7451437\ttotal: 1.86s\tremaining: 817ms\n",
      "695:\tlearn: 8568.6440163\ttotal: 1.86s\tremaining: 814ms\n",
      "696:\tlearn: 8559.3549776\ttotal: 1.86s\tremaining: 811ms\n",
      "697:\tlearn: 8548.2407484\ttotal: 1.87s\tremaining: 808ms\n",
      "698:\tlearn: 8542.5196791\ttotal: 1.87s\tremaining: 805ms\n",
      "699:\tlearn: 8532.8959447\ttotal: 1.87s\tremaining: 803ms\n",
      "700:\tlearn: 8530.5181444\ttotal: 1.88s\tremaining: 800ms\n",
      "701:\tlearn: 8513.2401938\ttotal: 1.88s\tremaining: 797ms\n",
      "702:\tlearn: 8502.9517883\ttotal: 1.88s\tremaining: 795ms\n",
      "703:\tlearn: 8496.8534503\ttotal: 1.88s\tremaining: 792ms\n",
      "704:\tlearn: 8489.2309737\ttotal: 1.89s\tremaining: 789ms\n",
      "705:\tlearn: 8481.6048916\ttotal: 1.89s\tremaining: 787ms\n",
      "706:\tlearn: 8474.5957820\ttotal: 1.89s\tremaining: 784ms\n",
      "707:\tlearn: 8468.8499539\ttotal: 1.89s\tremaining: 781ms\n",
      "708:\tlearn: 8464.2770487\ttotal: 1.9s\tremaining: 779ms\n",
      "709:\tlearn: 8463.3702173\ttotal: 1.9s\tremaining: 776ms\n",
      "710:\tlearn: 8452.8058047\ttotal: 1.9s\tremaining: 773ms\n",
      "711:\tlearn: 8443.0764657\ttotal: 1.9s\tremaining: 770ms\n",
      "712:\tlearn: 8437.5353794\ttotal: 1.91s\tremaining: 768ms\n",
      "713:\tlearn: 8425.5135385\ttotal: 1.91s\tremaining: 765ms\n",
      "714:\tlearn: 8411.5039088\ttotal: 1.91s\tremaining: 762ms\n",
      "715:\tlearn: 8398.7300336\ttotal: 1.91s\tremaining: 759ms\n",
      "716:\tlearn: 8391.9544231\ttotal: 1.92s\tremaining: 757ms\n",
      "717:\tlearn: 8384.8130630\ttotal: 1.92s\tremaining: 754ms\n",
      "718:\tlearn: 8378.4166186\ttotal: 1.92s\tremaining: 751ms\n",
      "719:\tlearn: 8371.7740576\ttotal: 1.92s\tremaining: 749ms\n",
      "720:\tlearn: 8361.8062773\ttotal: 1.93s\tremaining: 746ms\n",
      "721:\tlearn: 8354.3780610\ttotal: 1.93s\tremaining: 743ms\n",
      "722:\tlearn: 8343.6684774\ttotal: 1.93s\tremaining: 740ms\n",
      "723:\tlearn: 8327.5089092\ttotal: 1.94s\tremaining: 738ms\n",
      "724:\tlearn: 8319.1266984\ttotal: 1.94s\tremaining: 735ms\n",
      "725:\tlearn: 8308.0836663\ttotal: 1.94s\tremaining: 732ms\n",
      "726:\tlearn: 8294.8468428\ttotal: 1.94s\tremaining: 729ms\n",
      "727:\tlearn: 8283.9206503\ttotal: 1.94s\tremaining: 727ms\n",
      "728:\tlearn: 8269.7962607\ttotal: 1.95s\tremaining: 724ms\n",
      "729:\tlearn: 8260.1466341\ttotal: 1.95s\tremaining: 721ms\n",
      "730:\tlearn: 8252.9383546\ttotal: 1.95s\tremaining: 719ms\n",
      "731:\tlearn: 8244.8020301\ttotal: 1.96s\tremaining: 716ms\n",
      "732:\tlearn: 8238.6990038\ttotal: 1.96s\tremaining: 713ms\n",
      "733:\tlearn: 8229.1241906\ttotal: 1.96s\tremaining: 710ms\n",
      "734:\tlearn: 8224.5241487\ttotal: 1.96s\tremaining: 708ms\n",
      "735:\tlearn: 8220.1269697\ttotal: 1.97s\tremaining: 705ms\n",
      "736:\tlearn: 8205.7362125\ttotal: 1.97s\tremaining: 702ms\n",
      "737:\tlearn: 8192.6107740\ttotal: 1.97s\tremaining: 700ms\n",
      "738:\tlearn: 8189.3478574\ttotal: 1.97s\tremaining: 697ms\n",
      "739:\tlearn: 8176.4577279\ttotal: 1.98s\tremaining: 694ms\n",
      "740:\tlearn: 8167.7020144\ttotal: 1.98s\tremaining: 692ms\n",
      "741:\tlearn: 8159.7623563\ttotal: 1.98s\tremaining: 689ms\n",
      "742:\tlearn: 8145.6744733\ttotal: 1.98s\tremaining: 687ms\n",
      "743:\tlearn: 8129.0496225\ttotal: 1.99s\tremaining: 684ms\n",
      "744:\tlearn: 8121.1927377\ttotal: 1.99s\tremaining: 681ms\n",
      "745:\tlearn: 8116.3772576\ttotal: 1.99s\tremaining: 679ms\n",
      "746:\tlearn: 8106.5529169\ttotal: 2s\tremaining: 676ms\n",
      "747:\tlearn: 8097.3844469\ttotal: 2s\tremaining: 673ms\n",
      "748:\tlearn: 8093.8232005\ttotal: 2s\tremaining: 671ms\n",
      "749:\tlearn: 8081.1001406\ttotal: 2s\tremaining: 668ms\n",
      "750:\tlearn: 8071.0124870\ttotal: 2.01s\tremaining: 665ms\n",
      "751:\tlearn: 8062.6564447\ttotal: 2.01s\tremaining: 663ms\n",
      "752:\tlearn: 8054.0817981\ttotal: 2.01s\tremaining: 660ms\n",
      "753:\tlearn: 8048.1221334\ttotal: 2.02s\tremaining: 657ms\n",
      "754:\tlearn: 8037.9884127\ttotal: 2.02s\tremaining: 655ms\n",
      "755:\tlearn: 8028.7481152\ttotal: 2.02s\tremaining: 652ms\n",
      "756:\tlearn: 8021.2757925\ttotal: 2.02s\tremaining: 649ms\n",
      "757:\tlearn: 8003.6190398\ttotal: 2.02s\tremaining: 647ms\n",
      "758:\tlearn: 7997.3899732\ttotal: 2.03s\tremaining: 644ms\n",
      "759:\tlearn: 7991.7332355\ttotal: 2.03s\tremaining: 641ms\n",
      "760:\tlearn: 7976.7954002\ttotal: 2.03s\tremaining: 639ms\n",
      "761:\tlearn: 7965.8945224\ttotal: 2.04s\tremaining: 636ms\n",
      "762:\tlearn: 7960.3250507\ttotal: 2.04s\tremaining: 633ms\n",
      "763:\tlearn: 7954.0471772\ttotal: 2.04s\tremaining: 630ms\n",
      "764:\tlearn: 7943.5753751\ttotal: 2.04s\tremaining: 628ms\n",
      "765:\tlearn: 7933.2273211\ttotal: 2.05s\tremaining: 625ms\n"
     ]
    },
    {
     "name": "stdout",
     "output_type": "stream",
     "text": [
      "766:\tlearn: 7925.9059835\ttotal: 2.05s\tremaining: 623ms\n",
      "767:\tlearn: 7917.9258482\ttotal: 2.05s\tremaining: 620ms\n",
      "768:\tlearn: 7913.3977283\ttotal: 2.05s\tremaining: 617ms\n",
      "769:\tlearn: 7910.3107700\ttotal: 2.06s\tremaining: 615ms\n",
      "770:\tlearn: 7905.3656945\ttotal: 2.06s\tremaining: 612ms\n",
      "771:\tlearn: 7902.8100379\ttotal: 2.06s\tremaining: 609ms\n",
      "772:\tlearn: 7893.5158241\ttotal: 2.06s\tremaining: 606ms\n",
      "773:\tlearn: 7882.3129503\ttotal: 2.07s\tremaining: 604ms\n",
      "774:\tlearn: 7875.1958659\ttotal: 2.07s\tremaining: 601ms\n",
      "775:\tlearn: 7870.5841206\ttotal: 2.07s\tremaining: 599ms\n",
      "776:\tlearn: 7863.5987358\ttotal: 2.08s\tremaining: 596ms\n",
      "777:\tlearn: 7862.6891591\ttotal: 2.08s\tremaining: 593ms\n",
      "778:\tlearn: 7861.9963270\ttotal: 2.08s\tremaining: 590ms\n",
      "779:\tlearn: 7854.4832686\ttotal: 2.08s\tremaining: 588ms\n",
      "780:\tlearn: 7843.8504838\ttotal: 2.09s\tremaining: 585ms\n",
      "781:\tlearn: 7834.7074095\ttotal: 2.09s\tremaining: 582ms\n",
      "782:\tlearn: 7828.0258120\ttotal: 2.09s\tremaining: 580ms\n",
      "783:\tlearn: 7820.2398213\ttotal: 2.09s\tremaining: 577ms\n",
      "784:\tlearn: 7811.4958200\ttotal: 2.1s\tremaining: 574ms\n",
      "785:\tlearn: 7803.8686392\ttotal: 2.1s\tremaining: 572ms\n",
      "786:\tlearn: 7797.3094293\ttotal: 2.1s\tremaining: 569ms\n",
      "787:\tlearn: 7796.2828650\ttotal: 2.1s\tremaining: 566ms\n",
      "788:\tlearn: 7788.5624968\ttotal: 2.11s\tremaining: 564ms\n",
      "789:\tlearn: 7775.4980395\ttotal: 2.11s\tremaining: 561ms\n",
      "790:\tlearn: 7766.5484004\ttotal: 2.11s\tremaining: 558ms\n",
      "791:\tlearn: 7762.1762225\ttotal: 2.12s\tremaining: 555ms\n",
      "792:\tlearn: 7755.3188498\ttotal: 2.12s\tremaining: 553ms\n",
      "793:\tlearn: 7751.6051148\ttotal: 2.12s\tremaining: 550ms\n",
      "794:\tlearn: 7750.8759955\ttotal: 2.12s\tremaining: 548ms\n",
      "795:\tlearn: 7744.0345518\ttotal: 2.13s\tremaining: 545ms\n",
      "796:\tlearn: 7735.6611933\ttotal: 2.13s\tremaining: 542ms\n",
      "797:\tlearn: 7727.5634364\ttotal: 2.13s\tremaining: 539ms\n",
      "798:\tlearn: 7723.5628553\ttotal: 2.13s\tremaining: 537ms\n",
      "799:\tlearn: 7717.0126661\ttotal: 2.14s\tremaining: 534ms\n",
      "800:\tlearn: 7707.8650498\ttotal: 2.14s\tremaining: 532ms\n",
      "801:\tlearn: 7698.8665659\ttotal: 2.14s\tremaining: 529ms\n",
      "802:\tlearn: 7693.0337758\ttotal: 2.14s\tremaining: 526ms\n",
      "803:\tlearn: 7681.0309497\ttotal: 2.15s\tremaining: 523ms\n",
      "804:\tlearn: 7672.7761639\ttotal: 2.15s\tremaining: 521ms\n",
      "805:\tlearn: 7666.1011363\ttotal: 2.15s\tremaining: 518ms\n",
      "806:\tlearn: 7655.9696293\ttotal: 2.15s\tremaining: 515ms\n",
      "807:\tlearn: 7649.6826694\ttotal: 2.16s\tremaining: 513ms\n",
      "808:\tlearn: 7638.5943419\ttotal: 2.16s\tremaining: 510ms\n",
      "809:\tlearn: 7628.0544339\ttotal: 2.16s\tremaining: 507ms\n",
      "810:\tlearn: 7613.2802943\ttotal: 2.16s\tremaining: 504ms\n",
      "811:\tlearn: 7605.2721143\ttotal: 2.17s\tremaining: 502ms\n",
      "812:\tlearn: 7596.0499405\ttotal: 2.17s\tremaining: 499ms\n",
      "813:\tlearn: 7595.4720504\ttotal: 2.17s\tremaining: 496ms\n",
      "814:\tlearn: 7588.5594342\ttotal: 2.17s\tremaining: 494ms\n",
      "815:\tlearn: 7575.6240043\ttotal: 2.18s\tremaining: 491ms\n",
      "816:\tlearn: 7569.0654092\ttotal: 2.18s\tremaining: 488ms\n",
      "817:\tlearn: 7556.8766239\ttotal: 2.18s\tremaining: 485ms\n",
      "818:\tlearn: 7552.3857221\ttotal: 2.18s\tremaining: 483ms\n",
      "819:\tlearn: 7547.8636667\ttotal: 2.19s\tremaining: 480ms\n",
      "820:\tlearn: 7541.8075852\ttotal: 2.19s\tremaining: 477ms\n",
      "821:\tlearn: 7537.1396118\ttotal: 2.19s\tremaining: 475ms\n",
      "822:\tlearn: 7531.6335726\ttotal: 2.19s\tremaining: 472ms\n",
      "823:\tlearn: 7523.0299856\ttotal: 2.2s\tremaining: 469ms\n",
      "824:\tlearn: 7512.2521938\ttotal: 2.2s\tremaining: 466ms\n",
      "825:\tlearn: 7501.2481507\ttotal: 2.2s\tremaining: 464ms\n",
      "826:\tlearn: 7491.7098689\ttotal: 2.2s\tremaining: 461ms\n",
      "827:\tlearn: 7485.6301114\ttotal: 2.21s\tremaining: 458ms\n",
      "828:\tlearn: 7480.6892106\ttotal: 2.21s\tremaining: 456ms\n",
      "829:\tlearn: 7469.9729642\ttotal: 2.21s\tremaining: 453ms\n",
      "830:\tlearn: 7462.6114600\ttotal: 2.21s\tremaining: 450ms\n",
      "831:\tlearn: 7457.8205786\ttotal: 2.22s\tremaining: 448ms\n",
      "832:\tlearn: 7453.1797636\ttotal: 2.22s\tremaining: 445ms\n",
      "833:\tlearn: 7444.9752954\ttotal: 2.22s\tremaining: 442ms\n",
      "834:\tlearn: 7437.0685848\ttotal: 2.23s\tremaining: 440ms\n",
      "835:\tlearn: 7435.9052824\ttotal: 2.23s\tremaining: 437ms\n",
      "836:\tlearn: 7427.9889376\ttotal: 2.23s\tremaining: 435ms\n",
      "837:\tlearn: 7421.6349703\ttotal: 2.23s\tremaining: 432ms\n",
      "838:\tlearn: 7415.7267485\ttotal: 2.24s\tremaining: 429ms\n",
      "839:\tlearn: 7406.8148472\ttotal: 2.24s\tremaining: 427ms\n",
      "840:\tlearn: 7394.3131032\ttotal: 2.24s\tremaining: 424ms\n",
      "841:\tlearn: 7384.3219415\ttotal: 2.24s\tremaining: 421ms\n",
      "842:\tlearn: 7378.5928499\ttotal: 2.25s\tremaining: 419ms\n",
      "843:\tlearn: 7371.2907403\ttotal: 2.25s\tremaining: 416ms\n",
      "844:\tlearn: 7364.7600535\ttotal: 2.25s\tremaining: 413ms\n",
      "845:\tlearn: 7348.5985309\ttotal: 2.25s\tremaining: 410ms\n",
      "846:\tlearn: 7338.7780654\ttotal: 2.26s\tremaining: 408ms\n",
      "847:\tlearn: 7327.9352911\ttotal: 2.26s\tremaining: 405ms\n",
      "848:\tlearn: 7313.7129346\ttotal: 2.26s\tremaining: 402ms\n",
      "849:\tlearn: 7300.3659634\ttotal: 2.26s\tremaining: 400ms\n",
      "850:\tlearn: 7291.3157235\ttotal: 2.27s\tremaining: 397ms\n",
      "851:\tlearn: 7282.7032124\ttotal: 2.27s\tremaining: 394ms\n",
      "852:\tlearn: 7270.9712740\ttotal: 2.27s\tremaining: 391ms\n",
      "853:\tlearn: 7261.9083536\ttotal: 2.27s\tremaining: 389ms\n",
      "854:\tlearn: 7252.9361740\ttotal: 2.28s\tremaining: 386ms\n",
      "855:\tlearn: 7246.2248657\ttotal: 2.28s\tremaining: 383ms\n",
      "856:\tlearn: 7239.5346704\ttotal: 2.28s\tremaining: 381ms\n",
      "857:\tlearn: 7233.1134004\ttotal: 2.28s\tremaining: 378ms\n",
      "858:\tlearn: 7224.3127263\ttotal: 2.29s\tremaining: 375ms\n",
      "859:\tlearn: 7216.9114795\ttotal: 2.29s\tremaining: 373ms\n",
      "860:\tlearn: 7204.1962057\ttotal: 2.29s\tremaining: 370ms\n",
      "861:\tlearn: 7200.3296015\ttotal: 2.29s\tremaining: 367ms\n",
      "862:\tlearn: 7193.2469321\ttotal: 2.29s\tremaining: 364ms\n",
      "863:\tlearn: 7192.6583542\ttotal: 2.3s\tremaining: 362ms\n",
      "864:\tlearn: 7187.9301554\ttotal: 2.3s\tremaining: 359ms\n",
      "865:\tlearn: 7179.8960203\ttotal: 2.3s\tremaining: 356ms\n",
      "866:\tlearn: 7174.6194771\ttotal: 2.31s\tremaining: 354ms\n",
      "867:\tlearn: 7165.0433347\ttotal: 2.31s\tremaining: 351ms\n",
      "868:\tlearn: 7164.4905334\ttotal: 2.31s\tremaining: 348ms\n",
      "869:\tlearn: 7157.3480896\ttotal: 2.31s\tremaining: 346ms\n",
      "870:\tlearn: 7156.8255840\ttotal: 2.31s\tremaining: 343ms\n",
      "871:\tlearn: 7151.8983763\ttotal: 2.32s\tremaining: 340ms\n",
      "872:\tlearn: 7141.4749741\ttotal: 2.32s\tremaining: 338ms\n",
      "873:\tlearn: 7134.6743791\ttotal: 2.32s\tremaining: 335ms\n",
      "874:\tlearn: 7125.6540175\ttotal: 2.32s\tremaining: 332ms\n",
      "875:\tlearn: 7116.6107785\ttotal: 2.33s\tremaining: 329ms\n",
      "876:\tlearn: 7115.6120333\ttotal: 2.33s\tremaining: 327ms\n",
      "877:\tlearn: 7110.3999811\ttotal: 2.33s\tremaining: 324ms\n",
      "878:\tlearn: 7103.4418830\ttotal: 2.33s\tremaining: 321ms\n",
      "879:\tlearn: 7100.2535848\ttotal: 2.34s\tremaining: 319ms\n",
      "880:\tlearn: 7093.9319111\ttotal: 2.34s\tremaining: 316ms\n",
      "881:\tlearn: 7081.9166266\ttotal: 2.34s\tremaining: 313ms\n",
      "882:\tlearn: 7074.0294777\ttotal: 2.34s\tremaining: 311ms\n",
      "883:\tlearn: 7064.2120811\ttotal: 2.35s\tremaining: 308ms\n",
      "884:\tlearn: 7054.1774691\ttotal: 2.35s\tremaining: 305ms\n",
      "885:\tlearn: 7043.8819219\ttotal: 2.35s\tremaining: 303ms\n",
      "886:\tlearn: 7038.9788724\ttotal: 2.35s\tremaining: 300ms\n",
      "887:\tlearn: 7033.8147972\ttotal: 2.36s\tremaining: 297ms\n",
      "888:\tlearn: 7027.8684699\ttotal: 2.36s\tremaining: 294ms\n",
      "889:\tlearn: 7019.4137308\ttotal: 2.36s\tremaining: 292ms\n",
      "890:\tlearn: 7013.0147294\ttotal: 2.36s\tremaining: 289ms\n",
      "891:\tlearn: 7007.8279596\ttotal: 2.37s\tremaining: 286ms\n",
      "892:\tlearn: 6999.3431567\ttotal: 2.37s\tremaining: 284ms\n",
      "893:\tlearn: 6992.5296171\ttotal: 2.37s\tremaining: 281ms\n",
      "894:\tlearn: 6986.4586646\ttotal: 2.37s\tremaining: 278ms\n",
      "895:\tlearn: 6973.8149284\ttotal: 2.38s\tremaining: 276ms\n",
      "896:\tlearn: 6960.8163308\ttotal: 2.38s\tremaining: 273ms\n",
      "897:\tlearn: 6950.3199257\ttotal: 2.38s\tremaining: 270ms\n",
      "898:\tlearn: 6938.2545480\ttotal: 2.38s\tremaining: 268ms\n",
      "899:\tlearn: 6929.2623560\ttotal: 2.39s\tremaining: 265ms\n",
      "900:\tlearn: 6925.9111655\ttotal: 2.39s\tremaining: 262ms\n",
      "901:\tlearn: 6918.0287549\ttotal: 2.39s\tremaining: 260ms\n",
      "902:\tlearn: 6904.4166232\ttotal: 2.39s\tremaining: 257ms\n",
      "903:\tlearn: 6898.1646513\ttotal: 2.4s\tremaining: 255ms\n",
      "904:\tlearn: 6889.2616013\ttotal: 2.4s\tremaining: 252ms\n",
      "905:\tlearn: 6888.7332458\ttotal: 2.4s\tremaining: 249ms\n",
      "906:\tlearn: 6879.9619003\ttotal: 2.41s\tremaining: 247ms\n",
      "907:\tlearn: 6873.7047903\ttotal: 2.41s\tremaining: 244ms\n",
      "908:\tlearn: 6864.9654637\ttotal: 2.41s\tremaining: 242ms\n",
      "909:\tlearn: 6858.5321110\ttotal: 2.42s\tremaining: 239ms\n",
      "910:\tlearn: 6855.3160978\ttotal: 2.42s\tremaining: 236ms\n",
      "911:\tlearn: 6849.6382180\ttotal: 2.42s\tremaining: 234ms\n",
      "912:\tlearn: 6841.7215507\ttotal: 2.42s\tremaining: 231ms\n",
      "913:\tlearn: 6832.3431860\ttotal: 2.43s\tremaining: 228ms\n",
      "914:\tlearn: 6819.7511657\ttotal: 2.43s\tremaining: 226ms\n",
      "915:\tlearn: 6809.7972669\ttotal: 2.43s\tremaining: 223ms\n",
      "916:\tlearn: 6805.9329911\ttotal: 2.43s\tremaining: 220ms\n",
      "917:\tlearn: 6797.6129537\ttotal: 2.44s\tremaining: 218ms\n",
      "918:\tlearn: 6791.0471953\ttotal: 2.44s\tremaining: 215ms\n",
      "919:\tlearn: 6790.6181958\ttotal: 2.44s\tremaining: 212ms\n",
      "920:\tlearn: 6789.8481355\ttotal: 2.44s\tremaining: 210ms\n",
      "921:\tlearn: 6789.3309692\ttotal: 2.45s\tremaining: 207ms\n",
      "922:\tlearn: 6782.9702024\ttotal: 2.45s\tremaining: 204ms\n",
      "923:\tlearn: 6775.9904521\ttotal: 2.45s\tremaining: 202ms\n",
      "924:\tlearn: 6769.3396219\ttotal: 2.46s\tremaining: 199ms\n",
      "925:\tlearn: 6761.1158507\ttotal: 2.46s\tremaining: 196ms\n",
      "926:\tlearn: 6752.4990541\ttotal: 2.46s\tremaining: 194ms\n",
      "927:\tlearn: 6740.5667352\ttotal: 2.46s\tremaining: 191ms\n",
      "928:\tlearn: 6731.5310710\ttotal: 2.46s\tremaining: 188ms\n",
      "929:\tlearn: 6723.7185070\ttotal: 2.47s\tremaining: 186ms\n",
      "930:\tlearn: 6711.0913548\ttotal: 2.47s\tremaining: 183ms\n",
      "931:\tlearn: 6703.7102990\ttotal: 2.47s\tremaining: 181ms\n",
      "932:\tlearn: 6699.5321957\ttotal: 2.48s\tremaining: 178ms\n",
      "933:\tlearn: 6690.1998508\ttotal: 2.48s\tremaining: 175ms\n",
      "934:\tlearn: 6683.4169115\ttotal: 2.48s\tremaining: 173ms\n",
      "935:\tlearn: 6682.1491941\ttotal: 2.48s\tremaining: 170ms\n",
      "936:\tlearn: 6671.3955637\ttotal: 2.49s\tremaining: 167ms\n",
      "937:\tlearn: 6667.9865871\ttotal: 2.49s\tremaining: 165ms\n",
      "938:\tlearn: 6664.7879524\ttotal: 2.49s\tremaining: 162ms\n",
      "939:\tlearn: 6655.7262321\ttotal: 2.49s\tremaining: 159ms\n",
      "940:\tlearn: 6648.7361366\ttotal: 2.5s\tremaining: 157ms\n",
      "941:\tlearn: 6641.3579283\ttotal: 2.5s\tremaining: 154ms\n",
      "942:\tlearn: 6632.9798850\ttotal: 2.5s\tremaining: 151ms\n",
      "943:\tlearn: 6624.5568442\ttotal: 2.5s\tremaining: 149ms\n",
      "944:\tlearn: 6619.1429574\ttotal: 2.51s\tremaining: 146ms\n",
      "945:\tlearn: 6613.3997643\ttotal: 2.51s\tremaining: 143ms\n",
      "946:\tlearn: 6603.7489264\ttotal: 2.51s\tremaining: 141ms\n",
      "947:\tlearn: 6598.4232213\ttotal: 2.51s\tremaining: 138ms\n",
      "948:\tlearn: 6592.8391583\ttotal: 2.52s\tremaining: 135ms\n",
      "949:\tlearn: 6585.6115704\ttotal: 2.52s\tremaining: 133ms\n",
      "950:\tlearn: 6580.2181580\ttotal: 2.52s\tremaining: 130ms\n",
      "951:\tlearn: 6572.0741041\ttotal: 2.52s\tremaining: 127ms\n",
      "952:\tlearn: 6566.1456263\ttotal: 2.53s\tremaining: 125ms\n",
      "953:\tlearn: 6561.1573125\ttotal: 2.53s\tremaining: 122ms\n",
      "954:\tlearn: 6554.1340348\ttotal: 2.53s\tremaining: 119ms\n",
      "955:\tlearn: 6547.0512227\ttotal: 2.53s\tremaining: 117ms\n",
      "956:\tlearn: 6542.1270152\ttotal: 2.54s\tremaining: 114ms\n",
      "957:\tlearn: 6533.8077456\ttotal: 2.54s\tremaining: 111ms\n",
      "958:\tlearn: 6529.1060196\ttotal: 2.54s\tremaining: 109ms\n",
      "959:\tlearn: 6523.9298074\ttotal: 2.54s\tremaining: 106ms\n",
      "960:\tlearn: 6515.5164830\ttotal: 2.55s\tremaining: 103ms\n",
      "961:\tlearn: 6507.3187897\ttotal: 2.55s\tremaining: 101ms\n",
      "962:\tlearn: 6498.1079570\ttotal: 2.55s\tremaining: 98.1ms\n",
      "963:\tlearn: 6492.1875129\ttotal: 2.55s\tremaining: 95.4ms\n",
      "964:\tlearn: 6480.8511637\ttotal: 2.56s\tremaining: 92.7ms\n",
      "965:\tlearn: 6467.4141641\ttotal: 2.56s\tremaining: 90.1ms\n",
      "966:\tlearn: 6458.1413495\ttotal: 2.56s\tremaining: 87.4ms\n"
     ]
    },
    {
     "name": "stdout",
     "output_type": "stream",
     "text": [
      "967:\tlearn: 6457.5426610\ttotal: 2.56s\tremaining: 84.8ms\n",
      "968:\tlearn: 6455.2926782\ttotal: 2.57s\tremaining: 82.1ms\n",
      "969:\tlearn: 6443.8204431\ttotal: 2.57s\tremaining: 79.5ms\n",
      "970:\tlearn: 6437.7827426\ttotal: 2.57s\tremaining: 76.8ms\n",
      "971:\tlearn: 6426.9697999\ttotal: 2.58s\tremaining: 74.2ms\n",
      "972:\tlearn: 6419.4845594\ttotal: 2.58s\tremaining: 71.5ms\n",
      "973:\tlearn: 6419.0478268\ttotal: 2.58s\tremaining: 68.9ms\n",
      "974:\tlearn: 6418.6335497\ttotal: 2.58s\tremaining: 66.2ms\n",
      "975:\tlearn: 6412.9767952\ttotal: 2.58s\tremaining: 63.6ms\n",
      "976:\tlearn: 6403.2616104\ttotal: 2.59s\tremaining: 60.9ms\n",
      "977:\tlearn: 6395.5563618\ttotal: 2.59s\tremaining: 58.3ms\n",
      "978:\tlearn: 6387.8951456\ttotal: 2.59s\tremaining: 55.6ms\n",
      "979:\tlearn: 6378.9276267\ttotal: 2.6s\tremaining: 53ms\n",
      "980:\tlearn: 6374.5199186\ttotal: 2.6s\tremaining: 50.3ms\n",
      "981:\tlearn: 6362.8044822\ttotal: 2.6s\tremaining: 47.7ms\n",
      "982:\tlearn: 6359.3634081\ttotal: 2.6s\tremaining: 45ms\n",
      "983:\tlearn: 6353.4366962\ttotal: 2.6s\tremaining: 42.4ms\n",
      "984:\tlearn: 6346.0310659\ttotal: 2.61s\tremaining: 39.7ms\n",
      "985:\tlearn: 6338.1833586\ttotal: 2.61s\tremaining: 37.1ms\n",
      "986:\tlearn: 6334.5414886\ttotal: 2.61s\tremaining: 34.4ms\n",
      "987:\tlearn: 6329.7418046\ttotal: 2.61s\tremaining: 31.8ms\n",
      "988:\tlearn: 6323.5078117\ttotal: 2.62s\tremaining: 29.1ms\n",
      "989:\tlearn: 6321.2959368\ttotal: 2.62s\tremaining: 26.5ms\n",
      "990:\tlearn: 6316.9574883\ttotal: 2.62s\tremaining: 23.8ms\n",
      "991:\tlearn: 6313.5783443\ttotal: 2.62s\tremaining: 21.2ms\n",
      "992:\tlearn: 6307.3982538\ttotal: 2.63s\tremaining: 18.5ms\n",
      "993:\tlearn: 6306.7983847\ttotal: 2.63s\tremaining: 15.9ms\n",
      "994:\tlearn: 6299.0642645\ttotal: 2.63s\tremaining: 13.2ms\n",
      "995:\tlearn: 6297.8993338\ttotal: 2.63s\tremaining: 10.6ms\n",
      "996:\tlearn: 6291.8067300\ttotal: 2.64s\tremaining: 7.93ms\n",
      "997:\tlearn: 6284.1278292\ttotal: 2.64s\tremaining: 5.29ms\n",
      "998:\tlearn: 6282.1989526\ttotal: 2.64s\tremaining: 2.64ms\n",
      "999:\tlearn: 6270.0056638\ttotal: 2.64s\tremaining: 0us\n"
     ]
    },
    {
     "data": {
      "text/plain": [
       "<catboost.core.CatBoostRegressor at 0x152e78c9208>"
      ]
     },
     "execution_count": 38,
     "metadata": {},
     "output_type": "execute_result"
    }
   ],
   "source": [
    "from catboost import CatBoostRegressor\n",
    "catboost = CatBoostRegressor(random_state=0)\n",
    "catboost.fit(X_train, y_train)"
   ]
  },
  {
   "cell_type": "code",
   "execution_count": 39,
   "metadata": {},
   "outputs": [
    {
     "data": {
      "text/plain": [
       "{'Training MAE': 4759.692452610346,\n",
       " 'Training RMSE': 6270.0056638411315,\n",
       " 'Training R^2': 0.9937665627295762}"
      ]
     },
     "execution_count": 39,
     "metadata": {},
     "output_type": "execute_result"
    }
   ],
   "source": [
    "show_scores(catboost)"
   ]
  },
  {
   "cell_type": "code",
   "execution_count": 40,
   "metadata": {},
   "outputs": [],
   "source": [
    "cat_preds_boost = catboost.predict(test)"
   ]
  },
  {
   "cell_type": "code",
   "execution_count": 41,
   "metadata": {
    "scrolled": true
   },
   "outputs": [
    {
     "data": {
      "text/html": [
       "<div>\n",
       "<style scoped>\n",
       "    .dataframe tbody tr th:only-of-type {\n",
       "        vertical-align: middle;\n",
       "    }\n",
       "\n",
       "    .dataframe tbody tr th {\n",
       "        vertical-align: top;\n",
       "    }\n",
       "\n",
       "    .dataframe thead th {\n",
       "        text-align: right;\n",
       "    }\n",
       "</style>\n",
       "<table border=\"1\" class=\"dataframe\">\n",
       "  <thead>\n",
       "    <tr style=\"text-align: right;\">\n",
       "      <th></th>\n",
       "      <th>Id</th>\n",
       "      <th>SalePrice</th>\n",
       "    </tr>\n",
       "  </thead>\n",
       "  <tbody>\n",
       "    <tr>\n",
       "      <th>0</th>\n",
       "      <td>1461</td>\n",
       "      <td>123337.553655</td>\n",
       "    </tr>\n",
       "    <tr>\n",
       "      <th>1</th>\n",
       "      <td>1462</td>\n",
       "      <td>165288.566762</td>\n",
       "    </tr>\n",
       "    <tr>\n",
       "      <th>2</th>\n",
       "      <td>1463</td>\n",
       "      <td>184555.011894</td>\n",
       "    </tr>\n",
       "    <tr>\n",
       "      <th>3</th>\n",
       "      <td>1464</td>\n",
       "      <td>192977.853715</td>\n",
       "    </tr>\n",
       "    <tr>\n",
       "      <th>4</th>\n",
       "      <td>1465</td>\n",
       "      <td>190339.228473</td>\n",
       "    </tr>\n",
       "    <tr>\n",
       "      <th>...</th>\n",
       "      <td>...</td>\n",
       "      <td>...</td>\n",
       "    </tr>\n",
       "    <tr>\n",
       "      <th>1454</th>\n",
       "      <td>2915</td>\n",
       "      <td>83707.337061</td>\n",
       "    </tr>\n",
       "    <tr>\n",
       "      <th>1455</th>\n",
       "      <td>2916</td>\n",
       "      <td>83442.608117</td>\n",
       "    </tr>\n",
       "    <tr>\n",
       "      <th>1456</th>\n",
       "      <td>2917</td>\n",
       "      <td>174848.341441</td>\n",
       "    </tr>\n",
       "    <tr>\n",
       "      <th>1457</th>\n",
       "      <td>2918</td>\n",
       "      <td>117661.614393</td>\n",
       "    </tr>\n",
       "    <tr>\n",
       "      <th>1458</th>\n",
       "      <td>2919</td>\n",
       "      <td>227949.535377</td>\n",
       "    </tr>\n",
       "  </tbody>\n",
       "</table>\n",
       "<p>1459 rows × 2 columns</p>\n",
       "</div>"
      ],
      "text/plain": [
       "        Id      SalePrice\n",
       "0     1461  123337.553655\n",
       "1     1462  165288.566762\n",
       "2     1463  184555.011894\n",
       "3     1464  192977.853715\n",
       "4     1465  190339.228473\n",
       "...    ...            ...\n",
       "1454  2915   83707.337061\n",
       "1455  2916   83442.608117\n",
       "1456  2917  174848.341441\n",
       "1457  2918  117661.614393\n",
       "1458  2919  227949.535377\n",
       "\n",
       "[1459 rows x 2 columns]"
      ]
     },
     "execution_count": 41,
     "metadata": {},
     "output_type": "execute_result"
    }
   ],
   "source": [
    "cat_preds_df = pd.DataFrame()\n",
    "cat_preds_df[\"Id\"] = test[\"Id\"]\n",
    "cat_preds_df[\"SalePrice\"] = cat_preds_boost\n",
    "cat_preds_df"
   ]
  },
  {
   "cell_type": "markdown",
   "metadata": {},
   "source": [
    "# Outcome:\n",
    "Our Cat Boost Regressor Model Performed Best"
   ]
  },
  {
   "cell_type": "code",
   "execution_count": 42,
   "metadata": {},
   "outputs": [],
   "source": [
    "# Helper function for plotting feature importance\n",
    "def plot_features(columns, importances, n=20):\n",
    "    df = (pd.DataFrame({\"Features\": columns,\n",
    "                        \"Importances\": importances})\n",
    "         .sort_values(\"Importances\", ascending=False)\n",
    "         .reset_index(drop=True))\n",
    "    # Plot the dataframe\n",
    "    fig, ax = plt.subplots()\n",
    "    ax.barh(df[\"Features\"][:n], df[\"Importances\"][:20])\n",
    "    ax.set_ylabel(\"Features\")\n",
    "    ax.set_xlabel(\"Feature Importances\")\n",
    "    ax.invert_yaxis()"
   ]
  },
  {
   "cell_type": "code",
   "execution_count": 43,
   "metadata": {
    "scrolled": true
   },
   "outputs": [
    {
     "data": {
      "image/png": "[encoded data removed]",
      "text/plain": [
       "<Figure size 432x288 with 1 Axes>"
      ]
     },
     "metadata": {
      "needs_background": "light"
     },
     "output_type": "display_data"
    }
   ],
   "source": [
    "plot_features(X_train.columns, ideal_model.feature_importances_)"
   ]
  },
  {
   "cell_type": "code",
   "execution_count": 51,
   "metadata": {},
   "outputs": [],
   "source": [
    "# Export prediction data\n",
    "df_preds.to_csv(\"data/Kaggle-HousePricesComp/houseprice_pred2.csv\", index=False)"
   ]
  },
  {
   "cell_type": "code",
   "execution_count": 45,
   "metadata": {},
   "outputs": [],
   "source": [
    "cat_preds_df.to_csv(\"data/Kaggle-HousePricesComp/cat_preds_df.csv\", index = False)"
   ]
  },
  {
   "cell_type": "code",
   "execution_count": 46,
   "metadata": {},
   "outputs": [],
   "source": [
    "df_preds_boost.to_csv(\"data/Kaggle-HousePricesComp/houseprice_pred_boost.csv\", index = False)"
   ]
  },
  {
   "cell_type": "code",
   "execution_count": null,
   "metadata": {},
   "outputs": [],
   "source": []
  }
 ],
 "metadata": {
  "kernelspec": {
   "display_name": "Python 3",
   "language": "python",
   "name": "python3"
  },
  "language_info": {
   "codemirror_mode": {
    "name": "ipython",
    "version": 3
   },
   "file_extension": ".py",
   "mimetype": "text/x-python",
   "name": "python",
   "nbconvert_exporter": "python",
   "pygments_lexer": "ipython3",
   "version": "3.7.7"
  }
 },
 "nbformat": 4,
 "nbformat_minor": 4
}
