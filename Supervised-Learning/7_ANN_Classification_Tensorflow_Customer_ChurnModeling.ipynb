{
 "cells": [
  {
   "cell_type": "markdown",
   "metadata": {},
   "source": [
    "## Artificial Neural Network built with Tensorlow"
   ]
  },
  {
   "cell_type": "code",
   "execution_count": 1,
   "metadata": {},
   "outputs": [],
   "source": [
    "import pandas as pd\n",
    "import tensorflow as tf\n",
    "import numpy as np"
   ]
  },
  {
   "cell_type": "markdown",
   "metadata": {},
   "source": [
    "# Problem Statement: Can we predict if our customers will leave our bank? If we can predict that a customer might leave, we can send them promotions to keep them happy."
   ]
  },
  {
   "cell_type": "markdown",
   "metadata": {},
   "source": [
    "## Part 1 - Data Preprocessing"
   ]
  },
  {
   "cell_type": "markdown",
   "metadata": {},
   "source": [
    "Import Dataset\n",
    "- Here we remove the first three columns: row number, customerid, and surname because they will not have an effect on our outcome\n",
    "- 1 is left the bank, 0 is stayed with the bank"
   ]
  },
  {
   "cell_type": "code",
   "execution_count": 2,
   "metadata": {},
   "outputs": [],
   "source": [
    "dataset = pd.read_csv(\"Churn_Modelling.csv\")\n",
    "x = dataset.iloc[:,3:-1].values\n",
    "y = dataset.iloc[:,-1].values"
   ]
  },
  {
   "cell_type": "code",
   "execution_count": 3,
   "metadata": {},
   "outputs": [
    {
     "data": {
      "text/html": [
       "<div>\n",
       "<style scoped>\n",
       "    .dataframe tbody tr th:only-of-type {\n",
       "        vertical-align: middle;\n",
       "    }\n",
       "\n",
       "    .dataframe tbody tr th {\n",
       "        vertical-align: top;\n",
       "    }\n",
       "\n",
       "    .dataframe thead th {\n",
       "        text-align: right;\n",
       "    }\n",
       "</style>\n",
       "<table border=\"1\" class=\"dataframe\">\n",
       "  <thead>\n",
       "    <tr style=\"text-align: right;\">\n",
       "      <th></th>\n",
       "      <th>RowNumber</th>\n",
       "      <th>CustomerId</th>\n",
       "      <th>Surname</th>\n",
       "      <th>CreditScore</th>\n",
       "      <th>Geography</th>\n",
       "      <th>Gender</th>\n",
       "      <th>Age</th>\n",
       "      <th>Tenure</th>\n",
       "      <th>Balance</th>\n",
       "      <th>NumOfProducts</th>\n",
       "      <th>HasCrCard</th>\n",
       "      <th>IsActiveMember</th>\n",
       "      <th>EstimatedSalary</th>\n",
       "      <th>Exited</th>\n",
       "    </tr>\n",
       "  </thead>\n",
       "  <tbody>\n",
       "    <tr>\n",
       "      <th>0</th>\n",
       "      <td>1</td>\n",
       "      <td>15634602</td>\n",
       "      <td>Hargrave</td>\n",
       "      <td>619</td>\n",
       "      <td>France</td>\n",
       "      <td>Female</td>\n",
       "      <td>42</td>\n",
       "      <td>2</td>\n",
       "      <td>0.00</td>\n",
       "      <td>1</td>\n",
       "      <td>1</td>\n",
       "      <td>1</td>\n",
       "      <td>101348.88</td>\n",
       "      <td>1</td>\n",
       "    </tr>\n",
       "    <tr>\n",
       "      <th>1</th>\n",
       "      <td>2</td>\n",
       "      <td>15647311</td>\n",
       "      <td>Hill</td>\n",
       "      <td>608</td>\n",
       "      <td>Spain</td>\n",
       "      <td>Female</td>\n",
       "      <td>41</td>\n",
       "      <td>1</td>\n",
       "      <td>83807.86</td>\n",
       "      <td>1</td>\n",
       "      <td>0</td>\n",
       "      <td>1</td>\n",
       "      <td>112542.58</td>\n",
       "      <td>0</td>\n",
       "    </tr>\n",
       "    <tr>\n",
       "      <th>2</th>\n",
       "      <td>3</td>\n",
       "      <td>15619304</td>\n",
       "      <td>Onio</td>\n",
       "      <td>502</td>\n",
       "      <td>France</td>\n",
       "      <td>Female</td>\n",
       "      <td>42</td>\n",
       "      <td>8</td>\n",
       "      <td>159660.80</td>\n",
       "      <td>3</td>\n",
       "      <td>1</td>\n",
       "      <td>0</td>\n",
       "      <td>113931.57</td>\n",
       "      <td>1</td>\n",
       "    </tr>\n",
       "    <tr>\n",
       "      <th>3</th>\n",
       "      <td>4</td>\n",
       "      <td>15701354</td>\n",
       "      <td>Boni</td>\n",
       "      <td>699</td>\n",
       "      <td>France</td>\n",
       "      <td>Female</td>\n",
       "      <td>39</td>\n",
       "      <td>1</td>\n",
       "      <td>0.00</td>\n",
       "      <td>2</td>\n",
       "      <td>0</td>\n",
       "      <td>0</td>\n",
       "      <td>93826.63</td>\n",
       "      <td>0</td>\n",
       "    </tr>\n",
       "    <tr>\n",
       "      <th>4</th>\n",
       "      <td>5</td>\n",
       "      <td>15737888</td>\n",
       "      <td>Mitchell</td>\n",
       "      <td>850</td>\n",
       "      <td>Spain</td>\n",
       "      <td>Female</td>\n",
       "      <td>43</td>\n",
       "      <td>2</td>\n",
       "      <td>125510.82</td>\n",
       "      <td>1</td>\n",
       "      <td>1</td>\n",
       "      <td>1</td>\n",
       "      <td>79084.10</td>\n",
       "      <td>0</td>\n",
       "    </tr>\n",
       "  </tbody>\n",
       "</table>\n",
       "</div>"
      ],
      "text/plain": [
       "   RowNumber  CustomerId   Surname  CreditScore Geography  Gender  Age  \\\n",
       "0          1    15634602  Hargrave          619    France  Female   42   \n",
       "1          2    15647311      Hill          608     Spain  Female   41   \n",
       "2          3    15619304      Onio          502    France  Female   42   \n",
       "3          4    15701354      Boni          699    France  Female   39   \n",
       "4          5    15737888  Mitchell          850     Spain  Female   43   \n",
       "\n",
       "   Tenure    Balance  NumOfProducts  HasCrCard  IsActiveMember  \\\n",
       "0       2       0.00              1          1               1   \n",
       "1       1   83807.86              1          0               1   \n",
       "2       8  159660.80              3          1               0   \n",
       "3       1       0.00              2          0               0   \n",
       "4       2  125510.82              1          1               1   \n",
       "\n",
       "   EstimatedSalary  Exited  \n",
       "0        101348.88       1  \n",
       "1        112542.58       0  \n",
       "2        113931.57       1  \n",
       "3         93826.63       0  \n",
       "4         79084.10       0  "
      ]
     },
     "execution_count": 3,
     "metadata": {},
     "output_type": "execute_result"
    }
   ],
   "source": [
    "dataset.head()"
   ]
  },
  {
   "cell_type": "code",
   "execution_count": 4,
   "metadata": {},
   "outputs": [
    {
     "name": "stdout",
     "output_type": "stream",
     "text": [
      "[[619 'France' 'Female' ... 1 1 101348.88]\n",
      " [608 'Spain' 'Female' ... 0 1 112542.58]\n",
      " [502 'France' 'Female' ... 1 0 113931.57]\n",
      " ...\n",
      " [709 'France' 'Female' ... 0 1 42085.58]\n",
      " [772 'Germany' 'Male' ... 1 0 92888.52]\n",
      " [792 'France' 'Female' ... 1 0 38190.78]]\n"
     ]
    }
   ],
   "source": [
    "print(x)"
   ]
  },
  {
   "cell_type": "code",
   "execution_count": 5,
   "metadata": {},
   "outputs": [
    {
     "name": "stdout",
     "output_type": "stream",
     "text": [
      "[1 0 1 ... 1 1 0]\n"
     ]
    }
   ],
   "source": [
    "print(y)"
   ]
  },
  {
   "cell_type": "markdown",
   "metadata": {},
   "source": [
    "### Encoding Categorical Data"
   ]
  },
  {
   "cell_type": "markdown",
   "metadata": {},
   "source": [
    "Label Encoding the \"Gender\" Column"
   ]
  },
  {
   "cell_type": "code",
   "execution_count": 6,
   "metadata": {},
   "outputs": [],
   "source": [
    "from sklearn.preprocessing import LabelEncoder\n",
    "le = LabelEncoder()\n",
    "x[:,2] = le.fit_transform(x[:,2])"
   ]
  },
  {
   "cell_type": "code",
   "execution_count": 7,
   "metadata": {},
   "outputs": [
    {
     "name": "stdout",
     "output_type": "stream",
     "text": [
      "[[619 'France' 0 ... 1 1 101348.88]\n",
      " [608 'Spain' 0 ... 0 1 112542.58]\n",
      " [502 'France' 0 ... 1 0 113931.57]\n",
      " ...\n",
      " [709 'France' 0 ... 0 1 42085.58]\n",
      " [772 'Germany' 1 ... 1 0 92888.52]\n",
      " [792 'France' 0 ... 1 0 38190.78]]\n"
     ]
    }
   ],
   "source": [
    "print(x)"
   ]
  },
  {
   "cell_type": "markdown",
   "metadata": {},
   "source": [
    "One hot encoding the \"geography\" column"
   ]
  },
  {
   "cell_type": "code",
   "execution_count": 8,
   "metadata": {},
   "outputs": [],
   "source": [
    "from sklearn.compose import ColumnTransformer\n",
    "from sklearn.preprocessing import OneHotEncoder\n",
    "ct = ColumnTransformer(transformers = [('encoder', OneHotEncoder(), [1])], remainder=\"passthrough\")\n",
    "x = np.array(ct.fit_transform(x))"
   ]
  },
  {
   "cell_type": "code",
   "execution_count": 9,
   "metadata": {},
   "outputs": [
    {
     "data": {
      "text/plain": [
       "array([[1.0, 0.0, 0.0, ..., 1, 1, 101348.88],\n",
       "       [0.0, 0.0, 1.0, ..., 0, 1, 112542.58],\n",
       "       [1.0, 0.0, 0.0, ..., 1, 0, 113931.57],\n",
       "       ...,\n",
       "       [1.0, 0.0, 0.0, ..., 0, 1, 42085.58],\n",
       "       [0.0, 1.0, 0.0, ..., 1, 0, 92888.52],\n",
       "       [1.0, 0.0, 0.0, ..., 1, 0, 38190.78]], dtype=object)"
      ]
     },
     "execution_count": 9,
     "metadata": {},
     "output_type": "execute_result"
    }
   ],
   "source": [
    "x"
   ]
  },
  {
   "cell_type": "markdown",
   "metadata": {},
   "source": [
    "### Split Dataset into Train and Test"
   ]
  },
  {
   "cell_type": "code",
   "execution_count": 10,
   "metadata": {},
   "outputs": [],
   "source": [
    "from sklearn.model_selection import train_test_split\n",
    "X_train, X_test, y_train, y_test = train_test_split(x, y, test_size = 0.2, random_state=0)"
   ]
  },
  {
   "cell_type": "markdown",
   "metadata": {},
   "source": [
    "### Feature Scaling\n",
    "- Only fitted to the training set to avoid information leakage"
   ]
  },
  {
   "cell_type": "code",
   "execution_count": 11,
   "metadata": {},
   "outputs": [],
   "source": [
    "from sklearn.preprocessing import StandardScaler\n",
    "sc = StandardScaler()\n",
    "X_train = sc.fit_transform(X_train)\n",
    "X_test = sc.transform(X_test)"
   ]
  },
  {
   "cell_type": "markdown",
   "metadata": {},
   "source": [
    "## Part 2 - Building the ANN"
   ]
  },
  {
   "cell_type": "markdown",
   "metadata": {},
   "source": [
    "### Initializing the ANN"
   ]
  },
  {
   "cell_type": "code",
   "execution_count": 12,
   "metadata": {},
   "outputs": [],
   "source": [
    "ann = tf.keras.models.Sequential()\n",
    "# Use sequential so that it builds our model as a sequence of layers"
   ]
  },
  {
   "cell_type": "markdown",
   "metadata": {},
   "source": [
    "### Adding the input layer and first hidden layer"
   ]
  },
  {
   "cell_type": "code",
   "execution_count": 13,
   "metadata": {},
   "outputs": [],
   "source": [
    "ann.add(tf.keras.layers.Dense(units = 6, activation='relu'))\n",
    "# Dense first paramter is unit, which is asking how many neurons you want, there is no rule of thumb\n",
    "# its all trial and error for your specific data\n",
    "# Use somethng logical\n",
    "# Then we want to use the rectifier activation, which is relu\n",
    "# Why rectifier? The activation function in the hidden layers of a fully connected neural network must be rectifier"
   ]
  },
  {
   "cell_type": "markdown",
   "metadata": {},
   "source": [
    "### Adding the second hidden layer"
   ]
  },
  {
   "cell_type": "code",
   "execution_count": 14,
   "metadata": {},
   "outputs": [],
   "source": [
    "ann.add(tf.keras.layers.Dense(units = 6, activation='relu'))\n",
    "# all you have to do to add a new layer is copy and paste the first hidden layer\n",
    "# You can change the neurons and hyperparameter values in the layers if you want!"
   ]
  },
  {
   "cell_type": "markdown",
   "metadata": {},
   "source": [
    "### Adding the output layer"
   ]
  },
  {
   "cell_type": "code",
   "execution_count": 15,
   "metadata": {},
   "outputs": [],
   "source": [
    "ann.add(tf.keras.layers.Dense(units = 1, activation='sigmoid'))\n",
    "# We are still adding a new layer, but we change the parameters\n",
    "# We change 6 to 1, because we are predicting a binary variable\n",
    "# However, if we were predicting 3 dependent variables like A,B,C - we would need 3 output layers\n",
    "# The activation function is changed to a sigmoid activation function\n",
    "# Why? It gives you the predictions and the probability that the outcome is 1\n",
    "# For non-binary classification, the activation should be softmax not sigmoid"
   ]
  },
  {
   "cell_type": "markdown",
   "metadata": {},
   "source": [
    "## Part 3 - Training the ANN"
   ]
  },
  {
   "cell_type": "markdown",
   "metadata": {},
   "source": [
    "### Compiling the ANN"
   ]
  },
  {
   "cell_type": "code",
   "execution_count": 16,
   "metadata": {},
   "outputs": [],
   "source": [
    "ann.compile(optimizer = \"adam\" , loss = \"binary_crossentropy\" , metrics = [\"accuracy\"] )\n",
    "# the best optimizer is adam, why? because it is the best stochastic gradient descent optimizer\n",
    "# loss function must always match the dependent variable\n",
    "#           meaning since we have a binary y we are predicting, the loss must be binary\n",
    "# For non-binary classification, we would use categorical_crossentropy\n",
    "# we can enter multiple metrics at once"
   ]
  },
  {
   "cell_type": "markdown",
   "metadata": {},
   "source": [
    "### Training the ANN on the training set"
   ]
  },
  {
   "cell_type": "code",
   "execution_count": 17,
   "metadata": {},
   "outputs": [
    {
     "name": "stdout",
     "output_type": "stream",
     "text": [
      "Epoch 1/100\n",
      "250/250 [==============================] - 0s 589us/step - loss: 0.5277 - accuracy: 0.7784\n",
      "Epoch 2/100\n",
      "250/250 [==============================] - 0s 558us/step - loss: 0.4589 - accuracy: 0.7987\n",
      "Epoch 3/100\n",
      "250/250 [==============================] - 0s 580us/step - loss: 0.4322 - accuracy: 0.8123\n",
      "Epoch 4/100\n",
      "250/250 [==============================] - 0s 585us/step - loss: 0.4132 - accuracy: 0.8196\n",
      "Epoch 5/100\n",
      "250/250 [==============================] - 0s 580us/step - loss: 0.3955 - accuracy: 0.8330\n",
      "Epoch 6/100\n",
      "250/250 [==============================] - 0s 580us/step - loss: 0.3803 - accuracy: 0.8411\n",
      "Epoch 7/100\n",
      "250/250 [==============================] - 0s 508us/step - loss: 0.3695 - accuracy: 0.8444\n",
      "Epoch 8/100\n",
      "250/250 [==============================] - 0s 512us/step - loss: 0.3627 - accuracy: 0.8482\n",
      "Epoch 9/100\n",
      "250/250 [==============================] - 0s 508us/step - loss: 0.3579 - accuracy: 0.8520\n",
      "Epoch 10/100\n",
      "250/250 [==============================] - 0s 508us/step - loss: 0.3549 - accuracy: 0.8522\n",
      "Epoch 11/100\n",
      "250/250 [==============================] - 0s 512us/step - loss: 0.3527 - accuracy: 0.8554\n",
      "Epoch 12/100\n",
      "250/250 [==============================] - 0s 520us/step - loss: 0.3510 - accuracy: 0.8545\n",
      "Epoch 13/100\n",
      "250/250 [==============================] - 0s 520us/step - loss: 0.3499 - accuracy: 0.8559\n",
      "Epoch 14/100\n",
      "250/250 [==============================] - 0s 552us/step - loss: 0.3488 - accuracy: 0.8558\n",
      "Epoch 15/100\n",
      "250/250 [==============================] - 0s 532us/step - loss: 0.3482 - accuracy: 0.8577\n",
      "Epoch 16/100\n",
      "250/250 [==============================] - 0s 508us/step - loss: 0.3471 - accuracy: 0.8584\n",
      "Epoch 17/100\n",
      "250/250 [==============================] - 0s 508us/step - loss: 0.3469 - accuracy: 0.8574\n",
      "Epoch 18/100\n",
      "250/250 [==============================] - 0s 504us/step - loss: 0.3461 - accuracy: 0.8574\n",
      "Epoch 19/100\n",
      "250/250 [==============================] - 0s 504us/step - loss: 0.3453 - accuracy: 0.8574\n",
      "Epoch 20/100\n",
      "250/250 [==============================] - 0s 516us/step - loss: 0.3451 - accuracy: 0.8601\n",
      "Epoch 21/100\n",
      "250/250 [==============================] - 0s 516us/step - loss: 0.3445 - accuracy: 0.8593\n",
      "Epoch 22/100\n",
      "250/250 [==============================] - 0s 524us/step - loss: 0.3442 - accuracy: 0.8587\n",
      "Epoch 23/100\n",
      "250/250 [==============================] - 0s 528us/step - loss: 0.3441 - accuracy: 0.8575\n",
      "Epoch 24/100\n",
      "250/250 [==============================] - 0s 516us/step - loss: 0.3441 - accuracy: 0.8586\n",
      "Epoch 25/100\n",
      "250/250 [==============================] - 0s 504us/step - loss: 0.3434 - accuracy: 0.8590\n",
      "Epoch 26/100\n",
      "250/250 [==============================] - 0s 516us/step - loss: 0.3437 - accuracy: 0.8594\n",
      "Epoch 27/100\n",
      "250/250 [==============================] - 0s 508us/step - loss: 0.3430 - accuracy: 0.8586\n",
      "Epoch 28/100\n",
      "250/250 [==============================] - 0s 508us/step - loss: 0.3433 - accuracy: 0.8601\n",
      "Epoch 29/100\n",
      "250/250 [==============================] - 0s 520us/step - loss: 0.3424 - accuracy: 0.8605\n",
      "Epoch 30/100\n",
      "250/250 [==============================] - 0s 508us/step - loss: 0.3426 - accuracy: 0.8602\n",
      "Epoch 31/100\n",
      "250/250 [==============================] - 0s 540us/step - loss: 0.3425 - accuracy: 0.8589\n",
      "Epoch 32/100\n",
      "250/250 [==============================] - 0s 544us/step - loss: 0.3416 - accuracy: 0.8589\n",
      "Epoch 33/100\n",
      "250/250 [==============================] - 0s 504us/step - loss: 0.3416 - accuracy: 0.8611\n",
      "Epoch 34/100\n",
      "250/250 [==============================] - 0s 496us/step - loss: 0.3414 - accuracy: 0.8611\n",
      "Epoch 35/100\n",
      "250/250 [==============================] - 0s 504us/step - loss: 0.3414 - accuracy: 0.8620\n",
      "Epoch 36/100\n",
      "250/250 [==============================] - 0s 496us/step - loss: 0.3407 - accuracy: 0.8620\n",
      "Epoch 37/100\n",
      "250/250 [==============================] - 0s 496us/step - loss: 0.3405 - accuracy: 0.8615\n",
      "Epoch 38/100\n",
      "250/250 [==============================] - 0s 496us/step - loss: 0.3401 - accuracy: 0.8620\n",
      "Epoch 39/100\n",
      "250/250 [==============================] - 0s 492us/step - loss: 0.3399 - accuracy: 0.8618\n",
      "Epoch 40/100\n",
      "250/250 [==============================] - 0s 508us/step - loss: 0.3397 - accuracy: 0.8612\n",
      "Epoch 41/100\n",
      "250/250 [==============================] - 0s 492us/step - loss: 0.3397 - accuracy: 0.8620\n",
      "Epoch 42/100\n",
      "250/250 [==============================] - 0s 488us/step - loss: 0.3395 - accuracy: 0.8624\n",
      "Epoch 43/100\n",
      "250/250 [==============================] - 0s 500us/step - loss: 0.3393 - accuracy: 0.8618\n",
      "Epoch 44/100\n",
      "250/250 [==============================] - 0s 488us/step - loss: 0.3393 - accuracy: 0.8619\n",
      "Epoch 45/100\n",
      "250/250 [==============================] - 0s 500us/step - loss: 0.3393 - accuracy: 0.8625\n",
      "Epoch 46/100\n",
      "250/250 [==============================] - 0s 524us/step - loss: 0.3386 - accuracy: 0.8616\n",
      "Epoch 47/100\n",
      "250/250 [==============================] - 0s 520us/step - loss: 0.3387 - accuracy: 0.8620\n",
      "Epoch 48/100\n",
      "250/250 [==============================] - 0s 504us/step - loss: 0.3385 - accuracy: 0.8624\n",
      "Epoch 49/100\n",
      "250/250 [==============================] - 0s 504us/step - loss: 0.3386 - accuracy: 0.8626\n",
      "Epoch 50/100\n",
      "250/250 [==============================] - 0s 508us/step - loss: 0.3386 - accuracy: 0.8622\n",
      "Epoch 51/100\n",
      "250/250 [==============================] - 0s 504us/step - loss: 0.3380 - accuracy: 0.8625\n",
      "Epoch 52/100\n",
      "250/250 [==============================] - 0s 524us/step - loss: 0.3378 - accuracy: 0.8618\n",
      "Epoch 53/100\n",
      "250/250 [==============================] - 0s 496us/step - loss: 0.3380 - accuracy: 0.8621\n",
      "Epoch 54/100\n",
      "250/250 [==============================] - 0s 512us/step - loss: 0.3374 - accuracy: 0.8615\n",
      "Epoch 55/100\n",
      "250/250 [==============================] - 0s 496us/step - loss: 0.3378 - accuracy: 0.8615\n",
      "Epoch 56/100\n",
      "250/250 [==============================] - 0s 512us/step - loss: 0.3376 - accuracy: 0.8627\n",
      "Epoch 57/100\n",
      "250/250 [==============================] - 0s 504us/step - loss: 0.3372 - accuracy: 0.8629\n",
      "Epoch 58/100\n",
      "250/250 [==============================] - 0s 536us/step - loss: 0.3377 - accuracy: 0.8614\n",
      "Epoch 59/100\n",
      "250/250 [==============================] - 0s 540us/step - loss: 0.3374 - accuracy: 0.8621\n",
      "Epoch 60/100\n",
      "250/250 [==============================] - 0s 528us/step - loss: 0.3372 - accuracy: 0.8630\n",
      "Epoch 61/100\n",
      "250/250 [==============================] - 0s 516us/step - loss: 0.3368 - accuracy: 0.8624\n",
      "Epoch 62/100\n",
      "250/250 [==============================] - 0s 540us/step - loss: 0.3372 - accuracy: 0.8640\n",
      "Epoch 63/100\n",
      "250/250 [==============================] - 0s 536us/step - loss: 0.3370 - accuracy: 0.8624\n",
      "Epoch 64/100\n",
      "250/250 [==============================] - 0s 532us/step - loss: 0.3371 - accuracy: 0.8639\n",
      "Epoch 65/100\n",
      "250/250 [==============================] - 0s 516us/step - loss: 0.3366 - accuracy: 0.8635\n",
      "Epoch 66/100\n",
      "250/250 [==============================] - 0s 516us/step - loss: 0.3368 - accuracy: 0.8626\n",
      "Epoch 67/100\n",
      "250/250 [==============================] - 0s 508us/step - loss: 0.3364 - accuracy: 0.8629\n",
      "Epoch 68/100\n",
      "250/250 [==============================] - 0s 524us/step - loss: 0.3364 - accuracy: 0.8634\n",
      "Epoch 69/100\n",
      "250/250 [==============================] - 0s 536us/step - loss: 0.3362 - accuracy: 0.8633\n",
      "Epoch 70/100\n",
      "250/250 [==============================] - 0s 564us/step - loss: 0.3367 - accuracy: 0.8631\n",
      "Epoch 71/100\n",
      "250/250 [==============================] - 0s 556us/step - loss: 0.3364 - accuracy: 0.8631\n",
      "Epoch 72/100\n",
      "250/250 [==============================] - 0s 544us/step - loss: 0.3364 - accuracy: 0.8626\n",
      "Epoch 73/100\n",
      "250/250 [==============================] - 0s 628us/step - loss: 0.3360 - accuracy: 0.8636\n",
      "Epoch 74/100\n",
      "250/250 [==============================] - 0s 576us/step - loss: 0.3358 - accuracy: 0.8629\n",
      "Epoch 75/100\n",
      "250/250 [==============================] - 0s 516us/step - loss: 0.3357 - accuracy: 0.8635\n",
      "Epoch 76/100\n",
      "250/250 [==============================] - 0s 512us/step - loss: 0.3357 - accuracy: 0.8635\n",
      "Epoch 77/100\n",
      "250/250 [==============================] - 0s 508us/step - loss: 0.3356 - accuracy: 0.8639\n",
      "Epoch 78/100\n",
      "250/250 [==============================] - 0s 500us/step - loss: 0.3358 - accuracy: 0.8618\n",
      "Epoch 79/100\n",
      "250/250 [==============================] - 0s 492us/step - loss: 0.3354 - accuracy: 0.8643\n",
      "Epoch 80/100\n",
      "250/250 [==============================] - 0s 500us/step - loss: 0.3349 - accuracy: 0.8626\n",
      "Epoch 81/100\n",
      "250/250 [==============================] - 0s 508us/step - loss: 0.3353 - accuracy: 0.8631\n",
      "Epoch 82/100\n",
      "250/250 [==============================] - 0s 492us/step - loss: 0.3345 - accuracy: 0.8643\n",
      "Epoch 83/100\n",
      "250/250 [==============================] - 0s 504us/step - loss: 0.3352 - accuracy: 0.8651\n",
      "Epoch 84/100\n",
      "250/250 [==============================] - 0s 512us/step - loss: 0.3350 - accuracy: 0.8626\n",
      "Epoch 85/100\n",
      "250/250 [==============================] - 0s 516us/step - loss: 0.3353 - accuracy: 0.8641\n",
      "Epoch 86/100\n",
      "250/250 [==============================] - 0s 512us/step - loss: 0.3346 - accuracy: 0.8660\n",
      "Epoch 87/100\n",
      "250/250 [==============================] - 0s 512us/step - loss: 0.3345 - accuracy: 0.8648\n",
      "Epoch 88/100\n",
      "250/250 [==============================] - 0s 516us/step - loss: 0.3344 - accuracy: 0.8633\n",
      "Epoch 89/100\n",
      "250/250 [==============================] - 0s 532us/step - loss: 0.3343 - accuracy: 0.8639\n",
      "Epoch 90/100\n",
      "250/250 [==============================] - 0s 552us/step - loss: 0.3339 - accuracy: 0.8649\n",
      "Epoch 91/100\n",
      "250/250 [==============================] - 0s 820us/step - loss: 0.3342 - accuracy: 0.8639\n",
      "Epoch 92/100\n",
      "250/250 [==============================] - 0s 556us/step - loss: 0.3339 - accuracy: 0.8654\n",
      "Epoch 93/100\n",
      "250/250 [==============================] - 0s 544us/step - loss: 0.3339 - accuracy: 0.8645\n",
      "Epoch 94/100\n",
      "250/250 [==============================] - 0s 624us/step - loss: 0.3338 - accuracy: 0.8645\n",
      "Epoch 95/100\n",
      "250/250 [==============================] - 0s 548us/step - loss: 0.3335 - accuracy: 0.8646\n",
      "Epoch 96/100\n",
      "250/250 [==============================] - 0s 508us/step - loss: 0.3335 - accuracy: 0.8648\n",
      "Epoch 97/100\n",
      "250/250 [==============================] - 0s 496us/step - loss: 0.3336 - accuracy: 0.8654\n",
      "Epoch 98/100\n",
      "250/250 [==============================] - 0s 488us/step - loss: 0.3333 - accuracy: 0.8673\n",
      "Epoch 99/100\n",
      "250/250 [==============================] - 0s 504us/step - loss: 0.3332 - accuracy: 0.8643\n",
      "Epoch 100/100\n",
      "250/250 [==============================] - 0s 508us/step - loss: 0.3330 - accuracy: 0.8644\n"
     ]
    },
    {
     "data": {
      "text/plain": [
       "<tensorflow.python.keras.callbacks.History at 0x1f0d8bd20a0>"
      ]
     },
     "execution_count": 17,
     "metadata": {},
     "output_type": "execute_result"
    }
   ],
   "source": [
    "ann.fit(X_train, y_train, batch_size = 32, epochs = 100)\n",
    "# fit method is always used for training\n",
    "# we have to specify the batch size, batch size increases our speed and efficiency. 32 is the default value\n",
    "# an epoch is one full training of our model, how many times do we want it to do it?"
   ]
  },
  {
   "cell_type": "markdown",
   "metadata": {},
   "source": [
    "## Part 4 - Making the Predictions and evaluating the model"
   ]
  },
  {
   "cell_type": "markdown",
   "metadata": {},
   "source": [
    "### Predicting a single customer\n",
    "Use our ANN model to predict if the customer with the following informations will leave the bank:\n",
    "\n",
    "Geography: France\n",
    "\n",
    "Credit Score: 600\n",
    "\n",
    "Gender: Male\n",
    "\n",
    "Age: 40 years old\n",
    "\n",
    "Tenure: 3 years\n",
    "\n",
    "Balance: $ 60000\n",
    "\n",
    "Number of Products: 2\n",
    "\n",
    "Does this customer have a credit card ? Yes\n",
    "\n",
    "Is this customer an Active Member: Yes\n",
    "\n",
    "Estimated Salary: $ 50000\n",
    "\n",
    "So, should we say goodbye to that customer ?"
   ]
  },
  {
   "cell_type": "markdown",
   "metadata": {},
   "source": [
    "### Solution"
   ]
  },
  {
   "cell_type": "code",
   "execution_count": 18,
   "metadata": {},
   "outputs": [
    {
     "name": "stdout",
     "output_type": "stream",
     "text": [
      "[[False]]\n"
     ]
    }
   ],
   "source": [
    "print(ann.predict(sc.transform([[1, 0, 0, 600, 1, 40, 3, 60000, 2, 1, 1, 50000]])) > 0.5)\n",
    "# We have to apply the transform function the on observations\n",
    "# Since we chose a sigmoid activation function, we have to compare it against greater than 0.5"
   ]
  },
  {
   "cell_type": "code",
   "execution_count": 19,
   "metadata": {},
   "outputs": [
    {
     "name": "stdout",
     "output_type": "stream",
     "text": [
      "[[0.03487313]]\n"
     ]
    }
   ],
   "source": [
    "print(ann.predict(sc.transform([[1, 0, 0, 600, 1, 40, 3, 60000, 2, 1, 1, 50000]])))\n",
    "# They have a 0.03 predicted chance of leaving our bank"
   ]
  },
  {
   "cell_type": "markdown",
   "metadata": {},
   "source": [
    "### Since we got false, this customer is not predicted to leave our bank"
   ]
  },
  {
   "cell_type": "markdown",
   "metadata": {},
   "source": [
    "### Predicting the Test Results"
   ]
  },
  {
   "cell_type": "code",
   "execution_count": 20,
   "metadata": {},
   "outputs": [
    {
     "name": "stdout",
     "output_type": "stream",
     "text": [
      "[[0 0]\n",
      " [0 1]\n",
      " [0 0]\n",
      " ...\n",
      " [0 0]\n",
      " [0 0]\n",
      " [0 0]]\n"
     ]
    }
   ],
   "source": [
    "y_pred = ann.predict(X_test)\n",
    "y_pred = (y_pred > 0.5)\n",
    "print(np.concatenate((y_pred.reshape(len(y_pred),1), y_test.reshape(len(y_test),1)),1))\n",
    "# Left is predicted, right is actual"
   ]
  },
  {
   "cell_type": "markdown",
   "metadata": {},
   "source": [
    "### Making the confusion matrix"
   ]
  },
  {
   "cell_type": "code",
   "execution_count": 21,
   "metadata": {},
   "outputs": [
    {
     "name": "stdout",
     "output_type": "stream",
     "text": [
      "[[1506   89]\n",
      " [ 189  216]]\n"
     ]
    },
    {
     "data": {
      "text/plain": [
       "0.861"
      ]
     },
     "execution_count": 21,
     "metadata": {},
     "output_type": "execute_result"
    }
   ],
   "source": [
    "from sklearn.metrics import confusion_matrix, accuracy_score\n",
    "cm = confusion_matrix(y_test, y_pred)\n",
    "print(cm)\n",
    "accuracy_score(y_test, y_pred)"
   ]
  },
  {
   "cell_type": "markdown",
   "metadata": {},
   "source": [
    "86% Accuracy\n",
    "- 1506 - Correct Predictions that the customer stays with the bank\n",
    "- 216 - Correct Predictions that the customer leaves the bank\n",
    "- 89 - Incorrect Predictions that the customer would leave the bank\n",
    "- 189 - Incorrect Predictions that the customer would stay with the bank."
   ]
  },
  {
   "cell_type": "code",
   "execution_count": null,
   "metadata": {},
   "outputs": [],
   "source": []
  }
 ],
 "metadata": {
  "kernelspec": {
   "display_name": "Python 3",
   "language": "python",
   "name": "python3"
  },
  "language_info": {
   "codemirror_mode": {
    "name": "ipython",
    "version": 3
   },
   "file_extension": ".py",
   "mimetype": "text/x-python",
   "name": "python",
   "nbconvert_exporter": "python",
   "pygments_lexer": "ipython3",
   "version": "3.8.5"
  }
 },
 "nbformat": 4,
 "nbformat_minor": 4
}
